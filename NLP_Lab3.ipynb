{
  "nbformat": 4,
  "nbformat_minor": 0,
  "metadata": {
    "colab": {
      "name": "NLP-Lab3.ipynb",
      "provenance": [],
      "authorship_tag": "ABX9TyP2CHkK7hBzlVM0R1/VwukV",
      "include_colab_link": true
    },
    "kernelspec": {
      "name": "python3",
      "display_name": "Python 3"
    },
    "language_info": {
      "name": "python"
    }
  },
  "cells": [
    {
      "cell_type": "markdown",
      "metadata": {
        "id": "view-in-github",
        "colab_type": "text"
      },
      "source": [
        "<a href=\"https://colab.research.google.com/github/thebabycode/NLP/blob/main/NLP_Lab3.ipynb\" target=\"_parent\"><img src=\"https://colab.research.google.com/assets/colab-badge.svg\" alt=\"Open In Colab\"/></a>"
      ]
    },
    {
      "cell_type": "code",
      "execution_count": null,
      "metadata": {
        "id": "bjvNqRTb-tpE"
      },
      "outputs": [],
      "source": [
        "import nltk\n",
        "from nltk import word_tokenize\n",
        "import pandas as pd"
      ]
    },
    {
      "cell_type": "code",
      "source": [
        "pip install inltk"
      ],
      "metadata": {
        "colab": {
          "base_uri": "https://localhost:8080/",
          "height": 1000
        },
        "id": "tZQnmQEh_X26",
        "outputId": "56ca8b34-e171-4aef-b7f4-9aa1143a92cc"
      },
      "execution_count": null,
      "outputs": [
        {
          "output_type": "stream",
          "name": "stdout",
          "text": [
            "Looking in indexes: https://pypi.org/simple, https://us-python.pkg.dev/colab-wheels/public/simple/\n",
            "Collecting inltk\n",
            "  Downloading inltk-0.9-py3-none-any.whl (13 kB)\n",
            "Requirement already satisfied: numpy>=1.15 in /usr/local/lib/python3.7/dist-packages (from inltk) (1.21.6)\n",
            "Collecting sentencepiece\n",
            "  Downloading sentencepiece-0.1.96-cp37-cp37m-manylinux_2_17_x86_64.manylinux2014_x86_64.whl (1.2 MB)\n",
            "\u001b[K     |████████████████████████████████| 1.2 MB 5.1 MB/s \n",
            "\u001b[?25hRequirement already satisfied: pandas in /usr/local/lib/python3.7/dist-packages (from inltk) (1.3.5)\n",
            "Collecting nvidia-ml-py3\n",
            "  Downloading nvidia-ml-py3-7.352.0.tar.gz (19 kB)\n",
            "Requirement already satisfied: requests in /usr/local/lib/python3.7/dist-packages (from inltk) (2.23.0)\n",
            "Requirement already satisfied: scipy in /usr/local/lib/python3.7/dist-packages (from inltk) (1.7.3)\n",
            "Requirement already satisfied: matplotlib in /usr/local/lib/python3.7/dist-packages (from inltk) (3.2.2)\n",
            "Requirement already satisfied: async-timeout>=3.0.1 in /usr/local/lib/python3.7/dist-packages (from inltk) (4.0.2)\n",
            "Requirement already satisfied: packaging in /usr/local/lib/python3.7/dist-packages (from inltk) (21.3)\n",
            "Requirement already satisfied: fastprogress>=0.1.19 in /usr/local/lib/python3.7/dist-packages (from inltk) (1.0.3)\n",
            "Requirement already satisfied: beautifulsoup4 in /usr/local/lib/python3.7/dist-packages (from inltk) (4.6.3)\n",
            "Requirement already satisfied: pyyaml in /usr/local/lib/python3.7/dist-packages (from inltk) (3.13)\n",
            "Collecting typing\n",
            "  Downloading typing-3.7.4.3.tar.gz (78 kB)\n",
            "\u001b[K     |████████████████████████████████| 78 kB 6.8 MB/s \n",
            "\u001b[?25hRequirement already satisfied: numexpr in /usr/local/lib/python3.7/dist-packages (from inltk) (2.8.3)\n",
            "Collecting fastai==1.0.57\n",
            "  Downloading fastai-1.0.57-py3-none-any.whl (233 kB)\n",
            "\u001b[K     |████████████████████████████████| 233 kB 42.4 MB/s \n",
            "\u001b[?25hRequirement already satisfied: aiohttp>=3.5.4 in /usr/local/lib/python3.7/dist-packages (from inltk) (3.8.1)\n",
            "Requirement already satisfied: Pillow in /usr/local/lib/python3.7/dist-packages (from inltk) (7.1.2)\n",
            "Requirement already satisfied: spacy>=2.0.18 in /usr/local/lib/python3.7/dist-packages (from inltk) (3.4.1)\n",
            "Collecting bottleneck\n",
            "  Downloading Bottleneck-1.3.5-cp37-cp37m-manylinux_2_5_x86_64.manylinux1_x86_64.manylinux_2_17_x86_64.manylinux2014_x86_64.whl (355 kB)\n",
            "\u001b[K     |████████████████████████████████| 355 kB 50.5 MB/s \n",
            "\u001b[?25hRequirement already satisfied: torchvision in /usr/local/lib/python3.7/dist-packages (from fastai==1.0.57->inltk) (0.13.0+cu113)\n",
            "Requirement already satisfied: torch>=1.0.0 in /usr/local/lib/python3.7/dist-packages (from fastai==1.0.57->inltk) (1.12.0+cu113)\n",
            "Requirement already satisfied: charset-normalizer<3.0,>=2.0 in /usr/local/lib/python3.7/dist-packages (from aiohttp>=3.5.4->inltk) (2.1.0)\n",
            "Requirement already satisfied: aiosignal>=1.1.2 in /usr/local/lib/python3.7/dist-packages (from aiohttp>=3.5.4->inltk) (1.2.0)\n",
            "Requirement already satisfied: frozenlist>=1.1.1 in /usr/local/lib/python3.7/dist-packages (from aiohttp>=3.5.4->inltk) (1.3.0)\n",
            "Requirement already satisfied: yarl<2.0,>=1.0 in /usr/local/lib/python3.7/dist-packages (from aiohttp>=3.5.4->inltk) (1.7.2)\n",
            "Requirement already satisfied: typing-extensions>=3.7.4 in /usr/local/lib/python3.7/dist-packages (from aiohttp>=3.5.4->inltk) (4.1.1)\n",
            "Requirement already satisfied: asynctest==0.13.0 in /usr/local/lib/python3.7/dist-packages (from aiohttp>=3.5.4->inltk) (0.13.0)\n",
            "Requirement already satisfied: attrs>=17.3.0 in /usr/local/lib/python3.7/dist-packages (from aiohttp>=3.5.4->inltk) (22.1.0)\n",
            "Requirement already satisfied: multidict<7.0,>=4.5 in /usr/local/lib/python3.7/dist-packages (from aiohttp>=3.5.4->inltk) (6.0.2)\n",
            "Requirement already satisfied: preshed<3.1.0,>=3.0.2 in /usr/local/lib/python3.7/dist-packages (from spacy>=2.0.18->inltk) (3.0.6)\n",
            "Requirement already satisfied: srsly<3.0.0,>=2.4.3 in /usr/local/lib/python3.7/dist-packages (from spacy>=2.0.18->inltk) (2.4.4)\n",
            "Requirement already satisfied: langcodes<4.0.0,>=3.2.0 in /usr/local/lib/python3.7/dist-packages (from spacy>=2.0.18->inltk) (3.3.0)\n",
            "Requirement already satisfied: thinc<8.2.0,>=8.1.0 in /usr/local/lib/python3.7/dist-packages (from spacy>=2.0.18->inltk) (8.1.0)\n",
            "Requirement already satisfied: spacy-legacy<3.1.0,>=3.0.9 in /usr/local/lib/python3.7/dist-packages (from spacy>=2.0.18->inltk) (3.0.9)\n",
            "Requirement already satisfied: setuptools in /usr/local/lib/python3.7/dist-packages (from spacy>=2.0.18->inltk) (57.4.0)\n",
            "Requirement already satisfied: pathy>=0.3.5 in /usr/local/lib/python3.7/dist-packages (from spacy>=2.0.18->inltk) (0.6.2)\n",
            "Requirement already satisfied: pydantic!=1.8,!=1.8.1,<1.10.0,>=1.7.4 in /usr/local/lib/python3.7/dist-packages (from spacy>=2.0.18->inltk) (1.9.1)\n",
            "Requirement already satisfied: jinja2 in /usr/local/lib/python3.7/dist-packages (from spacy>=2.0.18->inltk) (2.11.3)\n",
            "Requirement already satisfied: cymem<2.1.0,>=2.0.2 in /usr/local/lib/python3.7/dist-packages (from spacy>=2.0.18->inltk) (2.0.6)\n",
            "Requirement already satisfied: tqdm<5.0.0,>=4.38.0 in /usr/local/lib/python3.7/dist-packages (from spacy>=2.0.18->inltk) (4.64.0)\n",
            "Requirement already satisfied: typer<0.5.0,>=0.3.0 in /usr/local/lib/python3.7/dist-packages (from spacy>=2.0.18->inltk) (0.4.2)\n",
            "Requirement already satisfied: wasabi<1.1.0,>=0.9.1 in /usr/local/lib/python3.7/dist-packages (from spacy>=2.0.18->inltk) (0.10.1)\n",
            "Requirement already satisfied: murmurhash<1.1.0,>=0.28.0 in /usr/local/lib/python3.7/dist-packages (from spacy>=2.0.18->inltk) (1.0.7)\n",
            "Requirement already satisfied: catalogue<2.1.0,>=2.0.6 in /usr/local/lib/python3.7/dist-packages (from spacy>=2.0.18->inltk) (2.0.8)\n",
            "Requirement already satisfied: spacy-loggers<2.0.0,>=1.0.0 in /usr/local/lib/python3.7/dist-packages (from spacy>=2.0.18->inltk) (1.0.3)\n",
            "Requirement already satisfied: zipp>=0.5 in /usr/local/lib/python3.7/dist-packages (from catalogue<2.1.0,>=2.0.6->spacy>=2.0.18->inltk) (3.8.1)\n",
            "Requirement already satisfied: pyparsing!=3.0.5,>=2.0.2 in /usr/local/lib/python3.7/dist-packages (from packaging->inltk) (3.0.9)\n",
            "Requirement already satisfied: smart-open<6.0.0,>=5.2.1 in /usr/local/lib/python3.7/dist-packages (from pathy>=0.3.5->spacy>=2.0.18->inltk) (5.2.1)\n",
            "Requirement already satisfied: idna<3,>=2.5 in /usr/local/lib/python3.7/dist-packages (from requests->inltk) (2.10)\n",
            "Requirement already satisfied: chardet<4,>=3.0.2 in /usr/local/lib/python3.7/dist-packages (from requests->inltk) (3.0.4)\n",
            "Requirement already satisfied: certifi>=2017.4.17 in /usr/local/lib/python3.7/dist-packages (from requests->inltk) (2022.6.15)\n",
            "Requirement already satisfied: urllib3!=1.25.0,!=1.25.1,<1.26,>=1.21.1 in /usr/local/lib/python3.7/dist-packages (from requests->inltk) (1.24.3)\n",
            "Requirement already satisfied: blis<0.8.0,>=0.7.8 in /usr/local/lib/python3.7/dist-packages (from thinc<8.2.0,>=8.1.0->spacy>=2.0.18->inltk) (0.7.8)\n",
            "Requirement already satisfied: click<9.0.0,>=7.1.1 in /usr/local/lib/python3.7/dist-packages (from typer<0.5.0,>=0.3.0->spacy>=2.0.18->inltk) (7.1.2)\n",
            "Requirement already satisfied: MarkupSafe>=0.23 in /usr/local/lib/python3.7/dist-packages (from jinja2->spacy>=2.0.18->inltk) (2.0.1)\n",
            "Requirement already satisfied: kiwisolver>=1.0.1 in /usr/local/lib/python3.7/dist-packages (from matplotlib->inltk) (1.4.4)\n",
            "Requirement already satisfied: python-dateutil>=2.1 in /usr/local/lib/python3.7/dist-packages (from matplotlib->inltk) (2.8.2)\n",
            "Requirement already satisfied: cycler>=0.10 in /usr/local/lib/python3.7/dist-packages (from matplotlib->inltk) (0.11.0)\n",
            "Requirement already satisfied: six>=1.5 in /usr/local/lib/python3.7/dist-packages (from python-dateutil>=2.1->matplotlib->inltk) (1.15.0)\n",
            "Requirement already satisfied: pytz>=2017.3 in /usr/local/lib/python3.7/dist-packages (from pandas->inltk) (2022.1)\n",
            "Building wheels for collected packages: nvidia-ml-py3, typing\n",
            "  Building wheel for nvidia-ml-py3 (setup.py) ... \u001b[?25l\u001b[?25hdone\n",
            "  Created wheel for nvidia-ml-py3: filename=nvidia_ml_py3-7.352.0-py3-none-any.whl size=19190 sha256=144cac05c271ff0d2e05f3697beacd565eb9ca25262f3c457a53ac316b50c1c6\n",
            "  Stored in directory: /root/.cache/pip/wheels/df/99/da/c34f202dc8fd1dffd35e0ecf1a7d7f8374ca05fbcbaf974b83\n",
            "  Building wheel for typing (setup.py) ... \u001b[?25l\u001b[?25hdone\n",
            "  Created wheel for typing: filename=typing-3.7.4.3-py3-none-any.whl size=26325 sha256=6abef99f9e3ff497f2ba2b506815d662beed56cc66ac12ac4383c5c9a474b9fd\n",
            "  Stored in directory: /root/.cache/pip/wheels/35/f3/15/01aa6571f0a72ee6ae7b827c1491c37a1f72d686fd22b43b0e\n",
            "Successfully built nvidia-ml-py3 typing\n",
            "Installing collected packages: nvidia-ml-py3, bottleneck, typing, sentencepiece, fastai, inltk\n",
            "  Attempting uninstall: fastai\n",
            "    Found existing installation: fastai 2.7.7\n",
            "    Uninstalling fastai-2.7.7:\n",
            "      Successfully uninstalled fastai-2.7.7\n",
            "Successfully installed bottleneck-1.3.5 fastai-1.0.57 inltk-0.9 nvidia-ml-py3-7.352.0 sentencepiece-0.1.96 typing-3.7.4.3\n"
          ]
        },
        {
          "output_type": "display_data",
          "data": {
            "application/vnd.colab-display-data+json": {
              "pip_warning": {
                "packages": [
                  "typing"
                ]
              }
            }
          },
          "metadata": {}
        }
      ]
    },
    {
      "cell_type": "code",
      "source": [
        "nltk.download('punkt')"
      ],
      "metadata": {
        "colab": {
          "base_uri": "https://localhost:8080/"
        },
        "id": "Q5obFLn4GAe2",
        "outputId": "ddb01468-07e8-49b5-a04a-55bd91ecd6d9"
      },
      "execution_count": null,
      "outputs": [
        {
          "output_type": "stream",
          "name": "stderr",
          "text": [
            "[nltk_data] Downloading package punkt to /root/nltk_data...\n",
            "[nltk_data]   Unzipping tokenizers/punkt.zip.\n"
          ]
        },
        {
          "output_type": "execute_result",
          "data": {
            "text/plain": [
              "True"
            ]
          },
          "metadata": {},
          "execution_count": 3
        }
      ]
    },
    {
      "cell_type": "code",
      "source": [
        "nltk.download('stopwords')"
      ],
      "metadata": {
        "id": "KqozoUm1GS9Y",
        "colab": {
          "base_uri": "https://localhost:8080/"
        },
        "outputId": "6426ce64-6caa-42ee-9e62-5d77a53fccbd"
      },
      "execution_count": null,
      "outputs": [
        {
          "output_type": "stream",
          "name": "stderr",
          "text": [
            "[nltk_data] Downloading package stopwords to /root/nltk_data...\n",
            "[nltk_data]   Unzipping corpora/stopwords.zip.\n"
          ]
        },
        {
          "output_type": "execute_result",
          "data": {
            "text/plain": [
              "True"
            ]
          },
          "metadata": {},
          "execution_count": 4
        }
      ]
    },
    {
      "cell_type": "code",
      "source": [
        "from nltk.corpus import stopwords"
      ],
      "metadata": {
        "id": "FJ-um87Y8Uid"
      },
      "execution_count": null,
      "outputs": []
    },
    {
      "cell_type": "markdown",
      "source": [
        "**`Telugu Language`**"
      ],
      "metadata": {
        "id": "D7QKr8RC9CgW"
      }
    },
    {
      "cell_type": "code",
      "source": [
        "def Convert(string):\n",
        "    li = list(string.split(\"\\n\"))\n",
        "    return li\n",
        "  \n",
        "# Driver code    \n",
        "Tstop_words = \"\"\"చేయగలిగింది\n",
        "గురించి\n",
        "పై\n",
        "ప్రకారం\n",
        "అనుగుణంగా\n",
        "అడ్డంగా\n",
        "నిజంగా\n",
        "తర్వాత\n",
        "తర్వాత\n",
        "మళ్ళీ\n",
        "వ్యతిరేకంగా\n",
        "కాదు\n",
        "అందరూ\n",
        "అనుమతించు\n",
        "అనుమతిస్తుంది\n",
        "దాదాపు\n",
        "మాత్రమే\n",
        "వెంట\n",
        "ఇప్పటికే\n",
        "కూడా\n",
        "అయితే\n",
        "ఎప్పుడు\n",
        "వద్ద\n",
        "మధ్య\n",
        "మధ్య\n",
        "ఒక\n",
        "మరియు\n",
        "మరొక\n",
        "ఏ\n",
        "ఎవరో ఒకరు\n",
        "ఏమైనప్పటికి\n",
        "ఎవరైనా\n",
        "ఏదైనా\n",
        "ఏమైనప్పటికి\n",
        "ఎక్కడైనా\n",
        "వేరుగా\n",
        "కనిపిస్తాయి\n",
        "మెచ్చుకో\n",
        "తగిన\n",
        "ఉన్నారు\n",
        "కాదు\n",
        "చుట్టూ\n",
        "గా\n",
        "ఒక ప్రక్కన\n",
        "అడగండి\n",
        "అడగడం\n",
        "సంబంధం\n",
        "వద్ద\n",
        "అందుబాటులో\n",
        "దూరంగా\"\"\"\n",
        "\n",
        "print(Convert(Tstop_words))"
      ],
      "metadata": {
        "colab": {
          "base_uri": "https://localhost:8080/"
        },
        "id": "EUxudouY8aj9",
        "outputId": "bddfd3b3-dbab-4187-9b02-b8e038ae1225"
      },
      "execution_count": null,
      "outputs": [
        {
          "output_type": "stream",
          "name": "stdout",
          "text": [
            "['చేయగలిగింది', 'గురించి', 'పై', 'ప్రకారం', 'అనుగుణంగా', 'అడ్డంగా', 'నిజంగా', 'తర్వాత', 'తర్వాత', 'మళ్ళీ', 'వ్యతిరేకంగా', 'కాదు', 'అందరూ', 'అనుమతించు', 'అనుమతిస్తుంది', 'దాదాపు', 'మాత్రమే', 'వెంట', 'ఇప్పటికే', 'కూడా', 'అయితే', 'ఎప్పుడు', 'వద్ద', 'మధ్య', 'మధ్య', 'ఒక', 'మరియు', 'మరొక', 'ఏ', 'ఎవరో ఒకరు', 'ఏమైనప్పటికి', 'ఎవరైనా', 'ఏదైనా', 'ఏమైనప్పటికి', 'ఎక్కడైనా', 'వేరుగా', 'కనిపిస్తాయి', 'మెచ్చుకో', 'తగిన', 'ఉన్నారు', 'కాదు', 'చుట్టూ', 'గా', 'ఒక ప్రక్కన', 'అడగండి', 'అడగడం', 'సంబంధం', 'వద్ద', 'అందుబాటులో', 'దూరంగా']\n"
          ]
        }
      ]
    },
    {
      "cell_type": "code",
      "source": [
        "telugu_text = \"ప్రతిపత్తిస్వత్వముల ఒక ప్రక్కన విషయమున ఉన్నారు మానవులెల్లరును జన్మతః స్వతంత్రులును సమానులును నగుదురు. వారు వివేచన-అంతఃకరణ సంపన్నులగుటచే పరస్పరము భ్రాతృభావముతో వర్తింపవలయును\" \n",
        "\n",
        "words = word_tokenize(telugu_text)\n",
        "print(words)"
      ],
      "metadata": {
        "colab": {
          "base_uri": "https://localhost:8080/"
        },
        "id": "-ylHeX378p5t",
        "outputId": "22d2f79e-4aad-4ad2-b1b3-9a1103cf88cb"
      },
      "execution_count": null,
      "outputs": [
        {
          "output_type": "stream",
          "name": "stdout",
          "text": [
            "['ప్రతిపత్తిస్వత్వముల', 'ఒక', 'ప్రక్కన', 'విషయమున', 'ఉన్నారు', 'మానవులెల్లరును', 'జన్మతః', 'స్వతంత్రులును', 'సమానులును', 'నగుదురు', '.', 'వారు', 'వివేచన-అంతఃకరణ', 'సంపన్నులగుటచే', 'పరస్పరము', 'భ్రాతృభావముతో', 'వర్తింపవలయును']\n"
          ]
        }
      ]
    },
    {
      "cell_type": "code",
      "source": [
        "words_ne=[]\n",
        "for word in words:\n",
        "    if word not in Tstop_words:\n",
        "        words_ne.append(word)\n",
        "      \n",
        "\n",
        "print(words_ne)"
      ],
      "metadata": {
        "colab": {
          "base_uri": "https://localhost:8080/"
        },
        "id": "q_Kkivbg8w87",
        "outputId": "63a8d1e3-37aa-4f1c-c23b-c000581eb058"
      },
      "execution_count": null,
      "outputs": [
        {
          "output_type": "stream",
          "name": "stdout",
          "text": [
            "['ప్రతిపత్తిస్వత్వముల', 'విషయమున', 'మానవులెల్లరును', 'జన్మతః', 'స్వతంత్రులును', 'సమానులును', 'నగుదురు', '.', 'వారు', 'వివేచన-అంతఃకరణ', 'సంపన్నులగుటచే', 'పరస్పరము', 'భ్రాతృభావముతో', 'వర్తింపవలయును']\n"
          ]
        }
      ]
    },
    {
      "cell_type": "markdown",
      "source": [
        "**Hindi Language**"
      ],
      "metadata": {
        "id": "gvA4fHlrwHMg"
      }
    },
    {
      "cell_type": "code",
      "source": [
        "from nltk.tokenize import WhitespaceTokenizer"
      ],
      "metadata": {
        "id": "IlEA2NHMwzDQ"
      },
      "execution_count": null,
      "outputs": []
    },
    {
      "cell_type": "code",
      "source": [
        "hindi_text = \"\"\"प्राचीन काल में विक्रमादित्य नाम के एक आदर्श राजा हुआ करते थे।\n",
        "अपने साहस, पराक्रम और शौर्य के लिए  राजा विक्रम मशहूर थे। \n",
        "ऐसा भी कहा जाता है कि राजा विक्रम अपनी प्राजा के जीवन के दुख दर्द जानने के लिए रात्री के पहर में भेष बदल कर नगर में घूमते थे।\"\"\"\n",
        "\n",
        "wt = WhitespaceTokenizer()\n",
        "sent = wt.tokenize(hindi_text)\n",
        "print(sent)"
      ],
      "metadata": {
        "colab": {
          "base_uri": "https://localhost:8080/"
        },
        "id": "cMXoL4yL87FR",
        "outputId": "dc973e53-b04d-4d30-beeb-368fa127d2f6"
      },
      "execution_count": null,
      "outputs": [
        {
          "output_type": "stream",
          "name": "stdout",
          "text": [
            "['प्राचीन', 'काल', 'में', 'विक्रमादित्य', 'नाम', 'के', 'एक', 'आदर्श', 'राजा', 'हुआ', 'करते', 'थे।', 'अपने', 'साहस,', 'पराक्रम', 'और', 'शौर्य', 'के', 'लिए', 'राजा', 'विक्रम', 'मशहूर', 'थे।', 'ऐसा', 'भी', 'कहा', 'जाता', 'है', 'कि', 'राजा', 'विक्रम', 'अपनी', 'प्राजा', 'के', 'जीवन', 'के', 'दुख', 'दर्द', 'जानने', 'के', 'लिए', 'रात्री', 'के', 'पहर', 'में', 'भेष', 'बदल', 'कर', 'नगर', 'में', 'घूमते', 'थे।']\n"
          ]
        }
      ]
    },
    {
      "cell_type": "code",
      "source": [
        "Hstop_words = \"\"\"पर  \n",
        "इन \n",
        "वह \n",
        "यिह \n",
        "वुह \n",
        "जिन्हें\n",
        "जिन्हों\n",
        "तिन्हें\n",
        "तिन्हों\n",
        "किन्हों\n",
        "किन्हें\n",
        "इत्यादि\n",
        "द्वारा\n",
        "इन्हें\n",
        "इन्हों\n",
        "उन्हों\n",
        "बिलकुल\n",
        "निहायत\n",
        "ऱ्वासा\n",
        "इन्हीं\n",
        "उन्हीं\n",
        "उन्हें\n",
        "इसमें\n",
        "जितना\n",
        "दुसरा\n",
        "कितना\n",
        "दबारा\n",
        "साबुत\n",
        "वग़ैरह\n",
        "दूसरे\n",
        "कौनसा\n",
        "लेकिन\n",
        "होता\n",
        "करने\n",
        "किया\n",
        "लिये\n",
        "अपने\n",
        "नहीं\n",
        "दिया\n",
        "इसका\n",
        "करना\n",
        "वाले\n",
        "सकते\n",
        "इसके\n",
        "सबसे\n",
        "होने\n",
        "करते\n",
        "बहुत\n",
        "वर्ग\n",
        "करें\n",
        "होती\n",
        "अपनी\n",
        "उनके\n",
        "कहते\n",
        "होते\n",
        "करता\n",
        "उनकी\n",
        "इसकी\n",
        "सकता\n",
        "रखें\n",
        "अपना\n",
        "उसके\n",
        "जिसे\n",
        "तिसे\n",
        "किसे\n",
        "किसी\n",
        "काफ़ी\n",
        "पहले\n",
        "नीचे\n",
        "बाला\n",
        "यहाँ\n",
        "जैसा\n",
        "जैसे\n",
        "मानो\n",
        "अंदर\n",
        "भीतर\n",
        "पूरा\n",
        "सारा\n",
        "होना\n",
        "उनको\n",
        "वहाँ\n",
        "वहीं\n",
        "जहाँ\n",
        "जीधर\n",
        "उनका\n",
        "इनका\n",
        "﻿के\n",
        "हैं\n",
        "गया\n",
        "बनी\n",
        "एवं\n",
        "हुआ\n",
        "साथ\n",
        "बाद\n",
        "लिए\n",
        "कुछ\n",
        "कहा\n",
        "यदि\n",
        "हुई\n",
        "इसे\n",
        "हुए\n",
        "अभी\n",
        "सभी\n",
        "कुल\n",
        "रहा\n",
        "रहे\n",
        "इसी\n",
        "उसे\n",
        "जिस\n",
        "जिन\n",
        "तिस\n",
        "तिन\n",
        "कौन\n",
        "किस\n",
        "कोई\n",
        "ऐसे\n",
        "तरह\n",
        "किर\n",
        "साभ\n",
        "संग\n",
        "यही\n",
        "बही\n",
        "उसी\n",
        "फिर\n",
        "मगर\n",
        "का\n",
        "एक\n",
        "यह\n",
        "से\n",
        "को\n",
        "इस\n",
        "कि\n",
        "जो\n",
        "कर\n",
        "मे\n",
        "ने\n",
        "तो\n",
        "ही\n",
        "या\n",
        "हो\n",
        "था\n",
        "तक\n",
        "आप\n",
        "ये\n",
        "थे\n",
        "दो\n",
        "वे\n",
        "थी\n",
        "जा\n",
        "ना\n",
        "उस\n",
        "एस\n",
        "पे\n",
        "उन\n",
        "सो\n",
        "भी\n",
        "और\n",
        "घर\n",
        "तब\n",
        "जब\n",
        "अत\n",
        "व\n",
        "न\"\"\""
      ],
      "metadata": {
        "id": "9Sx9zPJSw43I"
      },
      "execution_count": null,
      "outputs": []
    },
    {
      "cell_type": "code",
      "source": [
        "def Convert(string):\n",
        "    li = list(string.split(\"\\n\"))\n",
        "    return li\n",
        "\n",
        "print(Convert(Hstop_words))"
      ],
      "metadata": {
        "colab": {
          "base_uri": "https://localhost:8080/"
        },
        "id": "qY1I018SxVrs",
        "outputId": "a7511361-03e4-4f16-f265-cbd383ffdca4"
      },
      "execution_count": null,
      "outputs": [
        {
          "output_type": "stream",
          "name": "stdout",
          "text": [
            "['पर  ', 'इन ', 'वह ', 'यिह ', 'वुह ', 'जिन्हें', 'जिन्हों', 'तिन्हें', 'तिन्हों', 'किन्हों', 'किन्हें', 'इत्यादि', 'द्वारा', 'इन्हें', 'इन्हों', 'उन्हों', 'बिलकुल', 'निहायत', 'ऱ्वासा', 'इन्हीं', 'उन्हीं', 'उन्हें', 'इसमें', 'जितना', 'दुसरा', 'कितना', 'दबारा', 'साबुत', 'वग़ैरह', 'दूसरे', 'कौनसा', 'लेकिन', 'होता', 'करने', 'किया', 'लिये', 'अपने', 'नहीं', 'दिया', 'इसका', 'करना', 'वाले', 'सकते', 'इसके', 'सबसे', 'होने', 'करते', 'बहुत', 'वर्ग', 'करें', 'होती', 'अपनी', 'उनके', 'कहते', 'होते', 'करता', 'उनकी', 'इसकी', 'सकता', 'रखें', 'अपना', 'उसके', 'जिसे', 'तिसे', 'किसे', 'किसी', 'काफ़ी', 'पहले', 'नीचे', 'बाला', 'यहाँ', 'जैसा', 'जैसे', 'मानो', 'अंदर', 'भीतर', 'पूरा', 'सारा', 'होना', 'उनको', 'वहाँ', 'वहीं', 'जहाँ', 'जीधर', 'उनका', 'इनका', '\\ufeffके', 'हैं', 'गया', 'बनी', 'एवं', 'हुआ', 'साथ', 'बाद', 'लिए', 'कुछ', 'कहा', 'यदि', 'हुई', 'इसे', 'हुए', 'अभी', 'सभी', 'कुल', 'रहा', 'रहे', 'इसी', 'उसे', 'जिस', 'जिन', 'तिस', 'तिन', 'कौन', 'किस', 'कोई', 'ऐसे', 'तरह', 'किर', 'साभ', 'संग', 'यही', 'बही', 'उसी', 'फिर', 'मगर', 'का', 'एक', 'यह', 'से', 'को', 'इस', 'कि', 'जो', 'कर', 'मे', 'ने', 'तो', 'ही', 'या', 'हो', 'था', 'तक', 'आप', 'ये', 'थे', 'दो', 'वे', 'थी', 'जा', 'ना', 'उस', 'एस', 'पे', 'उन', 'सो', 'भी', 'और', 'घर', 'तब', 'जब', 'अत', 'व', 'न']\n"
          ]
        }
      ]
    },
    {
      "cell_type": "code",
      "source": [
        "words_ne=[]\n",
        "for word in sent:\n",
        "    if word not in Hstop_words:\n",
        "        words_ne.append(word)\n",
        "      \n",
        "\n",
        "print(words_ne)"
      ],
      "metadata": {
        "colab": {
          "base_uri": "https://localhost:8080/"
        },
        "id": "Wb37LPk0xbFi",
        "outputId": "da533353-f60c-40fb-995e-f69c65b3a96e"
      },
      "execution_count": null,
      "outputs": [
        {
          "output_type": "stream",
          "name": "stdout",
          "text": [
            "['प्राचीन', 'काल', 'विक्रमादित्य', 'नाम', 'आदर्श', 'राजा', 'थे।', 'साहस,', 'पराक्रम', 'शौर्य', 'राजा', 'विक्रम', 'मशहूर', 'थे।', 'ऐसा', 'जाता', 'राजा', 'विक्रम', 'प्राजा', 'जीवन', 'दुख', 'दर्द', 'जानने', 'रात्री', 'पहर', 'भेष', 'बदल', 'नगर', 'घूमते', 'थे।']\n"
          ]
        }
      ]
    },
    {
      "cell_type": "code",
      "source": [
        "w=nltk.FreqDist(words_ne)\n",
        "w.plot(10)"
      ],
      "metadata": {
        "colab": {
          "base_uri": "https://localhost:8080/",
          "height": 1000
        },
        "id": "8_lPz8EixfBk",
        "outputId": "1c28ef15-139d-4dfe-adaf-395540a179c0"
      },
      "execution_count": null,
      "outputs": [
        {
          "output_type": "stream",
          "name": "stderr",
          "text": [
            "/usr/local/lib/python3.7/dist-packages/matplotlib/backends/backend_agg.py:214: RuntimeWarning: Glyph 2352 missing from current font.\n",
            "  font.set_text(s, 0.0, flags=flags)\n",
            "/usr/local/lib/python3.7/dist-packages/matplotlib/backends/backend_agg.py:214: RuntimeWarning: Glyph 2366 missing from current font.\n",
            "  font.set_text(s, 0.0, flags=flags)\n",
            "/usr/local/lib/python3.7/dist-packages/matplotlib/backends/backend_agg.py:214: RuntimeWarning: Glyph 2332 missing from current font.\n",
            "  font.set_text(s, 0.0, flags=flags)\n",
            "/usr/local/lib/python3.7/dist-packages/matplotlib/backends/backend_agg.py:214: RuntimeWarning: Glyph 2341 missing from current font.\n",
            "  font.set_text(s, 0.0, flags=flags)\n",
            "/usr/local/lib/python3.7/dist-packages/matplotlib/backends/backend_agg.py:214: RuntimeWarning: Glyph 2375 missing from current font.\n",
            "  font.set_text(s, 0.0, flags=flags)\n",
            "/usr/local/lib/python3.7/dist-packages/matplotlib/backends/backend_agg.py:214: RuntimeWarning: Glyph 2404 missing from current font.\n",
            "  font.set_text(s, 0.0, flags=flags)\n",
            "/usr/local/lib/python3.7/dist-packages/matplotlib/backends/backend_agg.py:214: RuntimeWarning: Glyph 2357 missing from current font.\n",
            "  font.set_text(s, 0.0, flags=flags)\n",
            "/usr/local/lib/python3.7/dist-packages/matplotlib/backends/backend_agg.py:214: RuntimeWarning: Glyph 2367 missing from current font.\n",
            "  font.set_text(s, 0.0, flags=flags)\n",
            "/usr/local/lib/python3.7/dist-packages/matplotlib/backends/backend_agg.py:214: RuntimeWarning: Glyph 2325 missing from current font.\n",
            "  font.set_text(s, 0.0, flags=flags)\n",
            "/usr/local/lib/python3.7/dist-packages/matplotlib/backends/backend_agg.py:214: RuntimeWarning: Glyph 2381 missing from current font.\n",
            "  font.set_text(s, 0.0, flags=flags)\n",
            "/usr/local/lib/python3.7/dist-packages/matplotlib/backends/backend_agg.py:214: RuntimeWarning: Glyph 2350 missing from current font.\n",
            "  font.set_text(s, 0.0, flags=flags)\n",
            "/usr/local/lib/python3.7/dist-packages/matplotlib/backends/backend_agg.py:214: RuntimeWarning: Glyph 2346 missing from current font.\n",
            "  font.set_text(s, 0.0, flags=flags)\n",
            "/usr/local/lib/python3.7/dist-packages/matplotlib/backends/backend_agg.py:214: RuntimeWarning: Glyph 2330 missing from current font.\n",
            "  font.set_text(s, 0.0, flags=flags)\n",
            "/usr/local/lib/python3.7/dist-packages/matplotlib/backends/backend_agg.py:214: RuntimeWarning: Glyph 2368 missing from current font.\n",
            "  font.set_text(s, 0.0, flags=flags)\n",
            "/usr/local/lib/python3.7/dist-packages/matplotlib/backends/backend_agg.py:214: RuntimeWarning: Glyph 2344 missing from current font.\n",
            "  font.set_text(s, 0.0, flags=flags)\n",
            "/usr/local/lib/python3.7/dist-packages/matplotlib/backends/backend_agg.py:214: RuntimeWarning: Glyph 2354 missing from current font.\n",
            "  font.set_text(s, 0.0, flags=flags)\n",
            "/usr/local/lib/python3.7/dist-packages/matplotlib/backends/backend_agg.py:214: RuntimeWarning: Glyph 2342 missing from current font.\n",
            "  font.set_text(s, 0.0, flags=flags)\n",
            "/usr/local/lib/python3.7/dist-packages/matplotlib/backends/backend_agg.py:214: RuntimeWarning: Glyph 2340 missing from current font.\n",
            "  font.set_text(s, 0.0, flags=flags)\n",
            "/usr/local/lib/python3.7/dist-packages/matplotlib/backends/backend_agg.py:214: RuntimeWarning: Glyph 2351 missing from current font.\n",
            "  font.set_text(s, 0.0, flags=flags)\n",
            "/usr/local/lib/python3.7/dist-packages/matplotlib/backends/backend_agg.py:214: RuntimeWarning: Glyph 2310 missing from current font.\n",
            "  font.set_text(s, 0.0, flags=flags)\n",
            "/usr/local/lib/python3.7/dist-packages/matplotlib/backends/backend_agg.py:214: RuntimeWarning: Glyph 2358 missing from current font.\n",
            "  font.set_text(s, 0.0, flags=flags)\n",
            "/usr/local/lib/python3.7/dist-packages/matplotlib/backends/backend_agg.py:214: RuntimeWarning: Glyph 2360 missing from current font.\n",
            "  font.set_text(s, 0.0, flags=flags)\n",
            "/usr/local/lib/python3.7/dist-packages/matplotlib/backends/backend_agg.py:214: RuntimeWarning: Glyph 2361 missing from current font.\n",
            "  font.set_text(s, 0.0, flags=flags)\n",
            "/usr/local/lib/python3.7/dist-packages/matplotlib/backends/backend_agg.py:183: RuntimeWarning: Glyph 2352 missing from current font.\n",
            "  font.set_text(s, 0, flags=flags)\n",
            "/usr/local/lib/python3.7/dist-packages/matplotlib/backends/backend_agg.py:183: RuntimeWarning: Glyph 2366 missing from current font.\n",
            "  font.set_text(s, 0, flags=flags)\n",
            "/usr/local/lib/python3.7/dist-packages/matplotlib/backends/backend_agg.py:183: RuntimeWarning: Glyph 2332 missing from current font.\n",
            "  font.set_text(s, 0, flags=flags)\n",
            "/usr/local/lib/python3.7/dist-packages/matplotlib/backends/backend_agg.py:183: RuntimeWarning: Glyph 2341 missing from current font.\n",
            "  font.set_text(s, 0, flags=flags)\n",
            "/usr/local/lib/python3.7/dist-packages/matplotlib/backends/backend_agg.py:183: RuntimeWarning: Glyph 2375 missing from current font.\n",
            "  font.set_text(s, 0, flags=flags)\n",
            "/usr/local/lib/python3.7/dist-packages/matplotlib/backends/backend_agg.py:183: RuntimeWarning: Glyph 2404 missing from current font.\n",
            "  font.set_text(s, 0, flags=flags)\n",
            "/usr/local/lib/python3.7/dist-packages/matplotlib/backends/backend_agg.py:183: RuntimeWarning: Glyph 2357 missing from current font.\n",
            "  font.set_text(s, 0, flags=flags)\n",
            "/usr/local/lib/python3.7/dist-packages/matplotlib/backends/backend_agg.py:183: RuntimeWarning: Glyph 2367 missing from current font.\n",
            "  font.set_text(s, 0, flags=flags)\n",
            "/usr/local/lib/python3.7/dist-packages/matplotlib/backends/backend_agg.py:183: RuntimeWarning: Glyph 2325 missing from current font.\n",
            "  font.set_text(s, 0, flags=flags)\n",
            "/usr/local/lib/python3.7/dist-packages/matplotlib/backends/backend_agg.py:183: RuntimeWarning: Glyph 2381 missing from current font.\n",
            "  font.set_text(s, 0, flags=flags)\n",
            "/usr/local/lib/python3.7/dist-packages/matplotlib/backends/backend_agg.py:183: RuntimeWarning: Glyph 2350 missing from current font.\n",
            "  font.set_text(s, 0, flags=flags)\n",
            "/usr/local/lib/python3.7/dist-packages/matplotlib/backends/backend_agg.py:183: RuntimeWarning: Glyph 2346 missing from current font.\n",
            "  font.set_text(s, 0, flags=flags)\n",
            "/usr/local/lib/python3.7/dist-packages/matplotlib/backends/backend_agg.py:183: RuntimeWarning: Glyph 2330 missing from current font.\n",
            "  font.set_text(s, 0, flags=flags)\n",
            "/usr/local/lib/python3.7/dist-packages/matplotlib/backends/backend_agg.py:183: RuntimeWarning: Glyph 2368 missing from current font.\n",
            "  font.set_text(s, 0, flags=flags)\n",
            "/usr/local/lib/python3.7/dist-packages/matplotlib/backends/backend_agg.py:183: RuntimeWarning: Glyph 2344 missing from current font.\n",
            "  font.set_text(s, 0, flags=flags)\n",
            "/usr/local/lib/python3.7/dist-packages/matplotlib/backends/backend_agg.py:183: RuntimeWarning: Glyph 2354 missing from current font.\n",
            "  font.set_text(s, 0, flags=flags)\n",
            "/usr/local/lib/python3.7/dist-packages/matplotlib/backends/backend_agg.py:183: RuntimeWarning: Glyph 2342 missing from current font.\n",
            "  font.set_text(s, 0, flags=flags)\n",
            "/usr/local/lib/python3.7/dist-packages/matplotlib/backends/backend_agg.py:183: RuntimeWarning: Glyph 2340 missing from current font.\n",
            "  font.set_text(s, 0, flags=flags)\n",
            "/usr/local/lib/python3.7/dist-packages/matplotlib/backends/backend_agg.py:183: RuntimeWarning: Glyph 2351 missing from current font.\n",
            "  font.set_text(s, 0, flags=flags)\n",
            "/usr/local/lib/python3.7/dist-packages/matplotlib/backends/backend_agg.py:183: RuntimeWarning: Glyph 2310 missing from current font.\n",
            "  font.set_text(s, 0, flags=flags)\n",
            "/usr/local/lib/python3.7/dist-packages/matplotlib/backends/backend_agg.py:183: RuntimeWarning: Glyph 2358 missing from current font.\n",
            "  font.set_text(s, 0, flags=flags)\n",
            "/usr/local/lib/python3.7/dist-packages/matplotlib/backends/backend_agg.py:183: RuntimeWarning: Glyph 2360 missing from current font.\n",
            "  font.set_text(s, 0, flags=flags)\n",
            "/usr/local/lib/python3.7/dist-packages/matplotlib/backends/backend_agg.py:183: RuntimeWarning: Glyph 2361 missing from current font.\n",
            "  font.set_text(s, 0, flags=flags)\n"
          ]
        },
        {
          "output_type": "display_data",
          "data": {
            "text/plain": [
              "<Figure size 432x288 with 1 Axes>"
            ],
            "image/png": "[encoded data removed]"
          },
          "metadata": {
            "needs_background": "light"
          }
        },
        {
          "output_type": "execute_result",
          "data": {
            "text/plain": [
              "<matplotlib.axes._subplots.AxesSubplot at 0x7fd066698890>"
            ]
          },
          "metadata": {},
          "execution_count": 14
        }
      ]
    },
    {
      "cell_type": "markdown",
      "source": [
        "**Spanish Text**"
      ],
      "metadata": {
        "id": "K7jnkoCDxn54"
      }
    },
    {
      "cell_type": "code",
      "source": [
        "spanish_text = \"\"\"Mi nueva casa está en una calle ancha que tiene muchos árboles. \n",
        "El piso de arriba de mi casa tiene tres dormitorios y un despacho para trabajar. \n",
        "El piso de abajo tiene una cocina muy grande, un comedor con una mesa y seis sillas, \n",
        "un salón con dos sofás verdes, una televisión y cortinas. Además, \n",
        "tiene una pequeña terraza con piscina donde puedo tomar el sol en verano.\"\"\"\n",
        "spanishtext = word_tokenize(spanish_text)\n",
        "print(spanishtext)"
      ],
      "metadata": {
        "colab": {
          "base_uri": "https://localhost:8080/"
        },
        "id": "AVRIR224xnZ2",
        "outputId": "7e3e49f4-acaf-4c2a-8919-fca013c18790"
      },
      "execution_count": null,
      "outputs": [
        {
          "output_type": "stream",
          "name": "stdout",
          "text": [
            "['Mi', 'nueva', 'casa', 'está', 'en', 'una', 'calle', 'ancha', 'que', 'tiene', 'muchos', 'árboles', '.', 'El', 'piso', 'de', 'arriba', 'de', 'mi', 'casa', 'tiene', 'tres', 'dormitorios', 'y', 'un', 'despacho', 'para', 'trabajar', '.', 'El', 'piso', 'de', 'abajo', 'tiene', 'una', 'cocina', 'muy', 'grande', ',', 'un', 'comedor', 'con', 'una', 'mesa', 'y', 'seis', 'sillas', ',', 'un', 'salón', 'con', 'dos', 'sofás', 'verdes', ',', 'una', 'televisión', 'y', 'cortinas', '.', 'Además', ',', 'tiene', 'una', 'pequeña', 'terraza', 'con', 'piscina', 'donde', 'puedo', 'tomar', 'el', 'sol', 'en', 'verano', '.']\n"
          ]
        }
      ]
    },
    {
      "cell_type": "code",
      "source": [
        "nltk.download('stopwords')\n",
        "from nltk.corpus import stopwords"
      ],
      "metadata": {
        "colab": {
          "base_uri": "https://localhost:8080/"
        },
        "id": "CDyuDChnxjKW",
        "outputId": "6104ac34-3b96-461c-fd0d-03d4c3d471e1"
      },
      "execution_count": null,
      "outputs": [
        {
          "output_type": "stream",
          "name": "stderr",
          "text": [
            "[nltk_data] Downloading package stopwords to /root/nltk_data...\n",
            "[nltk_data]   Package stopwords is already up-to-date!\n"
          ]
        },
        {
          "output_type": "execute_result",
          "data": {
            "text/plain": [
              "True"
            ]
          },
          "metadata": {},
          "execution_count": 16
        }
      ]
    },
    {
      "cell_type": "code",
      "source": [
        "stop_words = set(stopwords.words('spanish'))"
      ],
      "metadata": {
        "id": "EocXzG-MxvwI"
      },
      "execution_count": null,
      "outputs": []
    },
    {
      "cell_type": "code",
      "source": [
        "words_ne=[]\n",
        "for word in spanishtext:\n",
        "    if word not in stop_words:\n",
        "        words_ne.append(word)\n",
        "      \n",
        "\n",
        "print(words_ne)"
      ],
      "metadata": {
        "colab": {
          "base_uri": "https://localhost:8080/"
        },
        "id": "zHy4LI6vy4c7",
        "outputId": "ae47c766-4b89-4963-d43a-8664c39c7c9a"
      },
      "execution_count": null,
      "outputs": [
        {
          "output_type": "stream",
          "name": "stdout",
          "text": [
            "['Mi', 'nueva', 'casa', 'calle', 'ancha', 'árboles', '.', 'El', 'piso', 'arriba', 'casa', 'tres', 'dormitorios', 'despacho', 'trabajar', '.', 'El', 'piso', 'abajo', 'cocina', 'grande', ',', 'comedor', 'mesa', 'seis', 'sillas', ',', 'salón', 'dos', 'sofás', 'verdes', ',', 'televisión', 'cortinas', '.', 'Además', ',', 'pequeña', 'terraza', 'piscina', 'puedo', 'tomar', 'sol', 'verano', '.']\n"
          ]
        }
      ]
    },
    {
      "cell_type": "code",
      "source": [
        "w=nltk.FreqDist(words_ne)\n",
        "w.plot(10)"
      ],
      "metadata": {
        "colab": {
          "base_uri": "https://localhost:8080/",
          "height": 323
        },
        "id": "l-RYx-gHy98Z",
        "outputId": "b3a47bba-b427-4792-d3f2-1e5f925f6fbf"
      },
      "execution_count": null,
      "outputs": [
        {
          "output_type": "display_data",
          "data": {
            "text/plain": [
              "<Figure size 432x288 with 1 Axes>"
            ],
            "image/png": "[encoded data removed]"
          },
          "metadata": {
            "needs_background": "light"
          }
        },
        {
          "output_type": "execute_result",
          "data": {
            "text/plain": [
              "<matplotlib.axes._subplots.AxesSubplot at 0x7fd066147d50>"
            ]
          },
          "metadata": {},
          "execution_count": 19
        }
      ]
    },
    {
      "cell_type": "markdown",
      "source": [
        "**Italian**"
      ],
      "metadata": {
        "id": "MgcJN06YzOGi"
      }
    },
    {
      "cell_type": "code",
      "source": [
        "msg =  \"\"\"Ciao a tutti, mi chiedevo se esiste un set di dati che potrei utilizzare per la mia tesi post-laurea per l'Università ellenica internazionale.\n",
        " La mia idea riguarda l'analisi del sentiment dei tweet (stato emotivo) per utenti di diversi stati d'America.\n",
        " Dato che sono nuovo dell'API di Twitter, mi chiedevo se non hai un tale set di dati se posso avere alcuni suggerimenti su come scaricare e salvare tali tweet,\n",
        " dal momento che ho bisogno di una buona quantità di loro e con una buona diversità di stati diversi per produrre il mio set di dati per l'analisi.  Inoltre ho bisogno di esaminare\n",
        " loro con una dimensione temporale, quindi ho bisogno di tweet del 2016..\n",
        "\n",
        " Grazie in anticipo\n",
        "\n",
        " Lex \"\"\""
      ],
      "metadata": {
        "id": "atiLypLqzFgY"
      },
      "execution_count": null,
      "outputs": []
    },
    {
      "cell_type": "code",
      "source": [
        "word_tokens_it = word_tokenize(msg)\n",
        "print(word_tokens_it)"
      ],
      "metadata": {
        "colab": {
          "base_uri": "https://localhost:8080/"
        },
        "id": "C8LILabVz1j-",
        "outputId": "4058b280-f85b-45b7-deb2-0e8abfe0c86e"
      },
      "execution_count": null,
      "outputs": [
        {
          "output_type": "stream",
          "name": "stdout",
          "text": [
            "['Ciao', 'a', 'tutti', ',', 'mi', 'chiedevo', 'se', 'esiste', 'un', 'set', 'di', 'dati', 'che', 'potrei', 'utilizzare', 'per', 'la', 'mia', 'tesi', 'post-laurea', 'per', \"l'Università\", 'ellenica', 'internazionale', '.', 'La', 'mia', 'idea', 'riguarda', \"l'analisi\", 'del', 'sentiment', 'dei', 'tweet', '(', 'stato', 'emotivo', ')', 'per', 'utenti', 'di', 'diversi', 'stati', \"d'America\", '.', 'Dato', 'che', 'sono', 'nuovo', \"dell'API\", 'di', 'Twitter', ',', 'mi', 'chiedevo', 'se', 'non', 'hai', 'un', 'tale', 'set', 'di', 'dati', 'se', 'posso', 'avere', 'alcuni', 'suggerimenti', 'su', 'come', 'scaricare', 'e', 'salvare', 'tali', 'tweet', ',', 'dal', 'momento', 'che', 'ho', 'bisogno', 'di', 'una', 'buona', 'quantità', 'di', 'loro', 'e', 'con', 'una', 'buona', 'diversità', 'di', 'stati', 'diversi', 'per', 'produrre', 'il', 'mio', 'set', 'di', 'dati', 'per', \"l'analisi\", '.', 'Inoltre', 'ho', 'bisogno', 'di', 'esaminare', 'loro', 'con', 'una', 'dimensione', 'temporale', ',', 'quindi', 'ho', 'bisogno', 'di', 'tweet', 'del', '2016', '..', 'Grazie', 'in', 'anticipo', 'Lex']\n"
          ]
        }
      ]
    },
    {
      "cell_type": "code",
      "source": [
        "italian_stopwords = []\n",
        "with open('italian_stopwords.txt') as my_file:\n",
        "    for line in my_file:\n",
        "        italian_stopwords.append(line)\n",
        "\n",
        "italian_stopwords"
      ],
      "metadata": {
        "colab": {
          "base_uri": "https://localhost:8080/",
          "height": 235
        },
        "id": "TBVU_pajz4dJ",
        "outputId": "3b90a0e1-5182-48e5-82b9-e2330babc1e0"
      },
      "execution_count": null,
      "outputs": [
        {
          "output_type": "error",
          "ename": "FileNotFoundError",
          "evalue": "ignored",
          "traceback": [
            "\u001b[0;31m---------------------------------------------------------------------------\u001b[0m",
            "\u001b[0;31mFileNotFoundError\u001b[0m                         Traceback (most recent call last)",
            "\u001b[0;32m<ipython-input-23-8a620f90408d>\u001b[0m in \u001b[0;36m<module>\u001b[0;34m()\u001b[0m\n\u001b[1;32m      1\u001b[0m \u001b[0mitalian_stopwords\u001b[0m \u001b[0;34m=\u001b[0m \u001b[0;34m[\u001b[0m\u001b[0;34m]\u001b[0m\u001b[0;34m\u001b[0m\u001b[0;34m\u001b[0m\u001b[0m\n\u001b[0;32m----> 2\u001b[0;31m \u001b[0;32mwith\u001b[0m \u001b[0mopen\u001b[0m\u001b[0;34m(\u001b[0m\u001b[0;34m'italian_stopwords.txt'\u001b[0m\u001b[0;34m)\u001b[0m \u001b[0;32mas\u001b[0m \u001b[0mmy_file\u001b[0m\u001b[0;34m:\u001b[0m\u001b[0;34m\u001b[0m\u001b[0;34m\u001b[0m\u001b[0m\n\u001b[0m\u001b[1;32m      3\u001b[0m     \u001b[0;32mfor\u001b[0m \u001b[0mline\u001b[0m \u001b[0;32min\u001b[0m \u001b[0mmy_file\u001b[0m\u001b[0;34m:\u001b[0m\u001b[0;34m\u001b[0m\u001b[0;34m\u001b[0m\u001b[0m\n\u001b[1;32m      4\u001b[0m         \u001b[0mitalian_stopwords\u001b[0m\u001b[0;34m.\u001b[0m\u001b[0mappend\u001b[0m\u001b[0;34m(\u001b[0m\u001b[0mline\u001b[0m\u001b[0;34m)\u001b[0m\u001b[0;34m\u001b[0m\u001b[0;34m\u001b[0m\u001b[0m\n\u001b[1;32m      5\u001b[0m \u001b[0;34m\u001b[0m\u001b[0m\n",
            "\u001b[0;31mFileNotFoundError\u001b[0m: [Errno 2] No such file or directory: 'italian_stopwords.txt'"
          ]
        }
      ]
    },
    {
      "cell_type": "code",
      "source": [
        ""
      ],
      "metadata": {
        "id": "AhC-e8V0z9As"
      },
      "execution_count": null,
      "outputs": []
    }
  ]
}