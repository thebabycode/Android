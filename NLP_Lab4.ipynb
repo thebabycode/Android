{
  "nbformat": 4,
  "nbformat_minor": 0,
  "metadata": {
    "colab": {
      "name": "NLP-Lab4",
      "provenance": [],
      "authorship_tag": "ABX9TyPAJrTelYnvVMb9UEeW+mCT",
      "include_colab_link": true
    },
    "kernelspec": {
      "name": "python3",
      "display_name": "Python 3"
    },
    "language_info": {
      "name": "python"
    }
  },
  "cells": [
    {
      "cell_type": "markdown",
      "metadata": {
        "id": "view-in-github",
        "colab_type": "text"
      },
      "source": [
        "<a href=\"https://colab.research.google.com/github/thebabycode/NLP/blob/main/NLP_Lab4.ipynb\" target=\"_parent\"><img src=\"https://colab.research.google.com/assets/colab-badge.svg\" alt=\"Open In Colab\"/></a>"
      ]
    },
    {
      "cell_type": "code",
      "execution_count": null,
      "metadata": {
        "id": "X_x6H8vq8sLo"
      },
      "outputs": [],
      "source": [
        "from nltk.corpus import wordnet, words"
      ]
    },
    {
      "cell_type": "code",
      "source": [
        "import nltk\n",
        "nltk.download('omw-1.4')\n",
        "nltk.download('wordnet')\n",
        "synonyms = []\n",
        "antonyms = []\n",
        "\n",
        "for syn in wordnet.synsets(\"love\"):\n",
        "    for i in syn.lemmas():\n",
        "        synonyms.append(i.name())\n",
        "\n",
        "        if i.antonyms():\n",
        "          antonyms.append(i.antonyms()[0].name())\n",
        "\n",
        "print(set(synonyms))\n"
      ],
      "metadata": {
        "colab": {
          "base_uri": "https://localhost:8080/"
        },
        "id": "9Rj5r_5oFp-a",
        "outputId": "cb28690f-3a18-4e62-f777-f1c0e0824bca"
      },
      "execution_count": null,
      "outputs": [
        {
          "output_type": "stream",
          "name": "stdout",
          "text": [
            "{'hump', 'beloved', 'roll_in_the_hay', 'love_life', 'bang', 'bonk', 'lovemaking', 'passion', 'bed', 'sexual_love', 'make_out', 'lie_with', 'know', 'have_it_away', 'erotic_love', 'have_it_off', 'fuck', 'making_love', 'enjoy', 'jazz', 'do_it', 'have_a_go_at_it', 'love', 'sleep_together', 'dearest', 'have_intercourse', 'get_it_on', 'be_intimate', 'screw', 'honey', 'make_love', 'get_laid', 'sleep_with', 'dear', 'have_sex', 'eff'}\n"
          ]
        },
        {
          "output_type": "stream",
          "name": "stderr",
          "text": [
            "[nltk_data] Downloading package omw-1.4 to /root/nltk_data...\n",
            "[nltk_data]   Package omw-1.4 is already up-to-date!\n",
            "[nltk_data] Downloading package wordnet to /root/nltk_data...\n",
            "[nltk_data]   Package wordnet is already up-to-date!\n"
          ]
        }
      ]
    },
    {
      "cell_type": "code",
      "source": [
        "print(set(antonyms))"
      ],
      "metadata": {
        "colab": {
          "base_uri": "https://localhost:8080/"
        },
        "id": "yn0tng6OFsm5",
        "outputId": "6016635d-4088-44f5-e015-c8420e89ca20"
      },
      "execution_count": null,
      "outputs": [
        {
          "output_type": "stream",
          "name": "stdout",
          "text": [
            "{'hate'}\n"
          ]
        }
      ]
    },
    {
      "cell_type": "code",
      "source": [
        "print(set(synonyms))"
      ],
      "metadata": {
        "colab": {
          "base_uri": "https://localhost:8080/"
        },
        "id": "MGL68JisFv4a",
        "outputId": "c1d543ad-7da6-45fa-aad8-5d07e0641767"
      },
      "execution_count": null,
      "outputs": [
        {
          "output_type": "stream",
          "name": "stdout",
          "text": [
            "{'hump', 'beloved', 'roll_in_the_hay', 'love_life', 'bang', 'bonk', 'lovemaking', 'passion', 'bed', 'sexual_love', 'make_out', 'lie_with', 'know', 'have_it_away', 'erotic_love', 'have_it_off', 'fuck', 'making_love', 'enjoy', 'jazz', 'do_it', 'have_a_go_at_it', 'love', 'sleep_together', 'dearest', 'have_intercourse', 'get_it_on', 'be_intimate', 'screw', 'honey', 'make_love', 'get_laid', 'sleep_with', 'dear', 'have_sex', 'eff'}\n"
          ]
        }
      ]
    },
    {
      "cell_type": "code",
      "source": [
        ""
      ],
      "metadata": {
        "id": "NoFqHzA0LKp9"
      },
      "execution_count": null,
      "outputs": []
    }
  ]
}