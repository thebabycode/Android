{
  "nbformat": 4,
  "nbformat_minor": 0,
  "metadata": {
    "colab": {
      "provenance": [],
      "authorship_tag": "ABX9TyNs8TpPQevDaccuz2nqgQ/H",
      "include_colab_link": true
    },
    "kernelspec": {
      "name": "python3",
      "display_name": "Python 3"
    },
    "language_info": {
      "name": "python"
    }
  },
  "cells": [
    {
      "cell_type": "markdown",
      "metadata": {
        "id": "view-in-github",
        "colab_type": "text"
      },
      "source": [
        "<a href=\"https://colab.research.google.com/github/thebabycode/NLP/blob/main/NLP_Lab6.ipynb\" target=\"_parent\"><img src=\"https://colab.research.google.com/assets/colab-badge.svg\" alt=\"Open In Colab\"/></a>"
      ]
    },
    {
      "cell_type": "code",
      "execution_count": null,
      "metadata": {
        "id": "MfF4IYqbBpx-",
        "outputId": "3db86c22-0ba4-4e48-c6fc-66de68566c5d",
        "colab": {
          "base_uri": "https://localhost:8080/"
        }
      },
      "outputs": [
        {
          "output_type": "stream",
          "name": "stderr",
          "text": [
            "[nltk_data] Downloading package punkt to /root/nltk_data...\n",
            "[nltk_data]   Unzipping tokenizers/punkt.zip.\n"
          ]
        },
        {
          "output_type": "execute_result",
          "data": {
            "text/plain": [
              "True"
            ]
          },
          "metadata": {},
          "execution_count": 1
        }
      ],
      "source": [
        "#import the nltk package\n",
        "import nltk\n",
        "nltk.download('punkt')"
      ]
    },
    {
      "cell_type": "code",
      "source": [
        "from nltk.stem import PorterStemmer\n",
        "from nltk.stem import LancasterStemmer\n",
        "from nltk.stem import SnowballStemmer"
      ],
      "metadata": {
        "id": "UMqRgdDWBpZ6"
      },
      "execution_count": null,
      "outputs": []
    },
    {
      "cell_type": "code",
      "source": [
        "#create an object of class PorterStemmer\n",
        "porter = PorterStemmer()\n",
        "lancaster=LancasterStemmer()\n",
        "snowball = SnowballStemmer('english')\n",
        "#proide a word to be stemmed\n",
        "print(\"Porter Stemmer\")\n",
        "print(porter.stem(\"cats\"))\n",
        "print(porter.stem(\"trouble\"))\n",
        "print(porter.stem(\"troubling\"))\n",
        "print(porter.stem(\"troubled\"))\n",
        "print(\"Lancaster Stemmer\")\n",
        "print(lancaster.stem(\"cats\"))\n",
        "print(lancaster.stem(\"trouble\"))\n",
        "print(lancaster.stem(\"troubling\"))\n",
        "print(lancaster.stem(\"troubled\"))\n",
        "print(\"Snowball Stemmer\")\n",
        "print(snowball.stem(\"cats\"))\n",
        "print(snowball.stem(\"trouble\"))\n",
        "print(snowball.stem(\"troubling\"))\n",
        "print(snowball.stem(\"troubled\"))"
      ],
      "metadata": {
        "colab": {
          "base_uri": "https://localhost:8080/"
        },
        "id": "5eFqVDkI903c",
        "outputId": "ff1af3f7-29ec-4b76-bfeb-44e4f122688a"
      },
      "execution_count": null,
      "outputs": [
        {
          "output_type": "stream",
          "name": "stdout",
          "text": [
            "Porter Stemmer\n",
            "cat\n",
            "troubl\n",
            "troubl\n",
            "troubl\n",
            "Lancaster Stemmer\n",
            "cat\n",
            "troubl\n",
            "troubl\n",
            "troubl\n",
            "Snowball Stemmer\n",
            "cat\n",
            "troubl\n",
            "troubl\n",
            "troubl\n"
          ]
        }
      ]
    },
    {
      "cell_type": "code",
      "source": [
        "#A list of words to be stemmed\n",
        "word_list = [\"friend\", \"friendship\", \"friends\", \"friendships\",\"stabil\",\"destabilize\",\"misunderstanding\",\"railroad\",\"moonlight\",\"football\"]\n",
        "print(\"{0:20}{1:20}{2:20}\".format(\"Word\",\"Porter Stemmer\",\"lancaster Stemmer\"))\n",
        "for word in word_list:\n",
        "    print(\"{0:20}{1:20}{2:20}\".format(word,porter.stem(word),lancaster.stem(word)))"
      ],
      "metadata": {
        "colab": {
          "base_uri": "https://localhost:8080/"
        },
        "id": "8UP6LGge95QQ",
        "outputId": "be1950d3-368a-43e7-f945-63e2c0191653"
      },
      "execution_count": null,
      "outputs": [
        {
          "output_type": "stream",
          "name": "stdout",
          "text": [
            "Word                Porter Stemmer      lancaster Stemmer   \n",
            "friend              friend              friend              \n",
            "friendship          friendship          friend              \n",
            "friends             friend              friend              \n",
            "friendships         friendship          friend              \n",
            "stabil              stabil              stabl               \n",
            "destabilize         destabil            dest                \n",
            "misunderstanding    misunderstand       misunderstand       \n",
            "railroad            railroad            railroad            \n",
            "moonlight           moonlight           moonlight           \n",
            "football            footbal             footbal             \n"
          ]
        }
      ]
    },
    {
      "cell_type": "code",
      "source": [
        "file=open(\"reviews.txt\")\n",
        "my_lines_list=file.readlines()\n",
        "my_lines_list"
      ],
      "metadata": {
        "colab": {
          "base_uri": "https://localhost:8080/"
        },
        "id": "fsFZDFyX98fB",
        "outputId": "d0fae8ff-9e13-47ea-c87f-9b82bb427ffd"
      },
      "execution_count": null,
      "outputs": [
        {
          "output_type": "execute_result",
          "data": {
            "text/plain": [
              "[\"Wandering down the path to the pond had become a daily routine. Even when the weather wasn't cooperating like today with the wind and rain, Jerry still took the morning stroll down the path until he reached the pond. Although there didn't seem to be a particular reason Jerry did this to anyone looking in from the outside, those who knew him well knew exactly what was going on. It could all be traced back to a specific incident that happened exactly 5 years previously.\"]"
            ]
          },
          "metadata": {},
          "execution_count": 6
        }
      ]
    },
    {
      "cell_type": "code",
      "source": [
        "from nltk.tokenize import sent_tokenize, word_tokenize\n",
        "from nltk.stem import PorterStemmer\n",
        "\n",
        "porter=PorterStemmer()\n",
        "\n",
        "def stemSentence(sentence):\n",
        "    token_words=word_tokenize(sentence)\n",
        "    token_words\n",
        "    stem_sentence=[]\n",
        "    for word in token_words:\n",
        "        stem_sentence.append(porter.stem(word))\n",
        "        stem_sentence.append(\" \")\n",
        "    return \"\".join(stem_sentence)\n",
        "\n",
        "print(\"Normal Review:\")\n",
        "print(\"\")\n",
        "print(my_lines_list[0])\n",
        "print(\"\")\n",
        "print(\"Stemmed Review:\")\n",
        "print(\"\")\n",
        "x=stemSentence(my_lines_list[0])\n",
        "print(x)\n",
        "print(\"\")"
      ],
      "metadata": {
        "colab": {
          "base_uri": "https://localhost:8080/"
        },
        "id": "qR-eWLWl-GFq",
        "outputId": "5f8a9a97-2404-4d3c-e92e-37f998526773"
      },
      "execution_count": null,
      "outputs": [
        {
          "output_type": "stream",
          "name": "stdout",
          "text": [
            "Normal Review:\n",
            "\n",
            "Wandering down the path to the pond had become a daily routine. Even when the weather wasn't cooperating like today with the wind and rain, Jerry still took the morning stroll down the path until he reached the pond. Although there didn't seem to be a particular reason Jerry did this to anyone looking in from the outside, those who knew him well knew exactly what was going on. It could all be traced back to a specific incident that happened exactly 5 years previously.\n",
            "\n",
            "Stemmed Review:\n",
            "\n",
            "wander down the path to the pond had becom a daili routin . even when the weather wa n't cooper like today with the wind and rain , jerri still took the morn stroll down the path until he reach the pond . although there did n't seem to be a particular reason jerri did thi to anyon look in from the outsid , those who knew him well knew exactli what wa go on . it could all be trace back to a specif incid that happen exactli 5 year previous . \n",
            "\n"
          ]
        }
      ]
    },
    {
      "cell_type": "code",
      "source": [
        "import nltk\n",
        "from nltk.tokenize import sent_tokenize, word_tokenize\n",
        "from nltk.stem.isri import ISRIStemmer\n",
        "st = ISRIStemmer()\n",
        "file=open(\"reviewsarabic.txt\")\n",
        "w= \"لقد أنهيت اللعبة للتو واستمتعت. كنت أقوم جزئيًا بتقييم اللعبة لابنتي التي هي من محبي القطط المتحمسين. كانت زوجتي قلقة بعض الشيء بشأن بعض الحالات التي يصاب فيها القط بجروح لفترة وجيزة ، لكنه عاد للوقوف على قدميه في وقت قصير. لذا بصرف النظر عن القليل من الشد على أوتار القلب بينما يعرج القط لمدة دقيقة أو دقيقتين ، فلا بأس. تحصل القصة على القليل من اللعبة المظلمة من منتصف إلى وقت متأخر. ربما تكون هناك بعض البيئات المخيفة التي تشق طريقك فيها. بالإضافة إل الخفيف واللعب الخفي. لكن لا شيء قد يكون في غير محله في لذلك أشعر أنه مناسب للأطفال. هناك بعض السيناريوهات التي يمكن أن تموت فيها القطة ، ولكن تتحول الشاشة إلى اللون الأحمر قبل إعادة التحميل السريع من الحفظ التلقائي. ليس هناك دماء أو صور مروعة. قد تكون طريقة اللعب\"\n",
        "for a in word_tokenize(w):\n",
        "    print(st.stem(a))"
      ],
      "metadata": {
        "colab": {
          "base_uri": "https://localhost:8080/"
        },
        "id": "s8ysszlX_A5z",
        "outputId": "281414d0-5835-4fb9-9ce7-788fa82880c1"
      },
      "execution_count": null,
      "outputs": [
        {
          "output_type": "stream",
          "name": "stdout",
          "text": [
            "لقد\n",
            "هيت\n",
            "لعب\n",
            "لتو\n",
            "واستمتعت\n",
            ".\n",
            "كنت\n",
            "اقم\n",
            "جزئ\n",
            "قيم\n",
            "لعب\n",
            "لبن\n",
            "التي\n",
            "هي\n",
            "من\n",
            "حبي\n",
            "قطط\n",
            "تحمس\n",
            ".\n",
            "كانت\n",
            "زوج\n",
            "قلق\n",
            "بعض\n",
            "شيء\n",
            "بشأ\n",
            "بعض\n",
            "حال\n",
            "التي\n",
            "يصب\n",
            "فيه\n",
            "لقط\n",
            "جرح\n",
            "فتر\n",
            "وجز\n",
            "،\n",
            "لكن\n",
            "عاد\n",
            "وقف\n",
            "على\n",
            "قدم\n",
            "في\n",
            "وقت\n",
            "قصر\n",
            ".\n",
            "لذا\n",
            "صرف\n",
            "نظر\n",
            "عن\n",
            "قلل\n",
            "من\n",
            "لشد\n",
            "على\n",
            "وار\n",
            "قلب\n",
            "بين\n",
            "عرج\n",
            "لقط\n",
            "لمد\n",
            "دقق\n",
            "او\n",
            "دقق\n",
            "،\n",
            "فلا\n",
            "بأس\n",
            ".\n",
            "حصل\n",
            "قصة\n",
            "على\n",
            "قلل\n",
            "من\n",
            "لعب\n",
            "ظلم\n",
            "من\n",
            "نصف\n",
            "الى\n",
            "وقت\n",
            "تأخر\n",
            ".\n",
            "ربم\n",
            "تكون\n",
            "هناك\n",
            "بعض\n",
            "بيئ\n",
            "خيف\n",
            "التي\n",
            "تشق\n",
            "طرق\n",
            "فيه\n",
            ".\n",
            "ضفة\n",
            "ال\n",
            "خفف\n",
            "لعب\n",
            "خفي\n",
            ".\n",
            "لكن\n",
            "لا\n",
            "شيء\n",
            "قد\n",
            "يكون\n",
            "في\n",
            "غير\n",
            "حله\n",
            "في\n",
            "لذلك\n",
            "شعر\n",
            "انه\n",
            "نسب\n",
            "طفل\n",
            ".\n",
            "هناك\n",
            "بعض\n",
            "سيناريوه\n",
            "التي\n",
            "يمكن\n",
            "ان\n",
            "تمت\n",
            "فيه\n",
            "قطة\n",
            "،\n",
            "ولكن\n",
            "تحل\n",
            "ششة\n",
            "الى\n",
            "لون\n",
            "حمر\n",
            "قبل\n",
            "عدة\n",
            "حمل\n",
            "سرع\n",
            "من\n",
            "حفظ\n",
            "لقئ\n",
            ".\n",
            "ليس\n",
            "هناك\n",
            "دمء\n",
            "او\n",
            "صور\n",
            "روع\n",
            ".\n",
            "قد\n",
            "تكون\n",
            "طرق\n",
            "لعب\n"
          ]
        }
      ]
    },
    {
      "cell_type": "code",
      "source": [
        "import nltk\n",
        "nltk.download('rslp')\n",
        "from nltk.tokenize import sent_tokenize, word_tokenize\n",
        "from nltk.stem.rslp import RSLPStemmer\n",
        "st = RSLPStemmer()\n",
        "w= \"Jogo de aventura distópico, estrelado por um gato. Acabei de terminar o jogo e me diverti muito. Eu estava em parte avaliando o jogo para minha enteada que é uma ávida amante de gatos. Minha esposa estava um pouco preocupada com alguns dos casos em que o gato fica brevemente ferido, mas está de volta em pouco tempo. Então, além de um pequeno puxão nas cordas do coração enquanto o gato manca por um minuto ou dois, está tudo bem. A história fica um pouco \"\n",
        "for a in word_tokenize(w):\n",
        "    print(st.stem(a))"
      ],
      "metadata": {
        "id": "Z9r28nUr_2rx",
        "outputId": "6407bb6d-4f03-45a1-b3fc-94f58169d01b",
        "colab": {
          "base_uri": "https://localhost:8080/"
        }
      },
      "execution_count": null,
      "outputs": [
        {
          "output_type": "stream",
          "name": "stdout",
          "text": [
            "jog\n",
            "de\n",
            "avent\n",
            "distóp\n",
            ",\n",
            "estrel\n",
            "por\n",
            "um\n",
            "gat\n",
            ".\n",
            "acab\n",
            "de\n",
            "termin\n",
            "o\n",
            "jog\n",
            "e\n",
            "me\n",
            "divert\n",
            "muit\n",
            ".\n",
            "eu\n",
            "est\n",
            "em\n",
            "part\n",
            "avali\n",
            "o\n",
            "jog\n",
            "par\n",
            "minh\n",
            "ente\n",
            "que\n",
            "é\n",
            "uma\n",
            "ávid\n",
            "am\n",
            "de\n",
            "gat\n",
            ".\n",
            "minh\n",
            "esp\n",
            "est\n",
            "um\n",
            "pouc\n",
            "preocup\n",
            "com\n",
            "algum\n",
            "do\n",
            "cas\n",
            "em\n",
            "que\n",
            "o\n",
            "gat\n",
            "fic\n",
            "brev\n",
            "fer\n",
            ",\n",
            "mas\n",
            "est\n",
            "de\n",
            "volt\n",
            "em\n",
            "pouc\n",
            "temp\n",
            ".\n",
            "ent\n",
            ",\n",
            "além\n",
            "de\n",
            "um\n",
            "pequen\n",
            "pux\n",
            "na\n",
            "cord\n",
            "do\n",
            "coraçã\n",
            "enquant\n",
            "o\n",
            "gat\n",
            "manc\n",
            "por\n",
            "um\n",
            "minut\n",
            "ou\n",
            "doi\n",
            ",\n",
            "est\n",
            "tud\n",
            "bem\n",
            ".\n",
            "a\n",
            "histór\n",
            "fic\n",
            "um\n",
            "pouc\n"
          ]
        },
        {
          "output_type": "stream",
          "name": "stderr",
          "text": [
            "[nltk_data] Downloading package rslp to /root/nltk_data...\n",
            "[nltk_data]   Unzipping stemmers/rslp.zip.\n"
          ]
        }
      ]
    },
    {
      "cell_type": "code",
      "source": [],
      "metadata": {
        "id": "nNKhNWQp_5oD"
      },
      "execution_count": null,
      "outputs": []
    }
  ]
}