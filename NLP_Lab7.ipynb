{
  "nbformat": 4,
  "nbformat_minor": 0,
  "metadata": {
    "colab": {
      "provenance": [],
      "authorship_tag": "ABX9TyNvBS6Uc2royzuTD+eE7mMD",
      "include_colab_link": true
    },
    "kernelspec": {
      "name": "python3",
      "display_name": "Python 3"
    },
    "language_info": {
      "name": "python"
    }
  },
  "cells": [
    {
      "cell_type": "markdown",
      "metadata": {
        "id": "view-in-github",
        "colab_type": "text"
      },
      "source": [
        "<a href=\"https://colab.research.google.com/github/thebabycode/NLP/blob/main/NLP_Lab7.ipynb\" target=\"_parent\"><img src=\"https://colab.research.google.com/assets/colab-badge.svg\" alt=\"Open In Colab\"/></a>"
      ]
    },
    {
      "cell_type": "code",
      "execution_count": null,
      "metadata": {
        "id": "BETPfTgrO1c7",
        "colab": {
          "base_uri": "https://localhost:8080/"
        },
        "outputId": "2d32529b-e265-41bd-f146-fca2ffe22311"
      },
      "outputs": [
        {
          "output_type": "stream",
          "name": "stderr",
          "text": [
            "[nltk_data] Downloading package wordnet to /root/nltk_data...\n",
            "[nltk_data] Downloading package punkt to /root/nltk_data...\n",
            "[nltk_data]   Unzipping tokenizers/punkt.zip.\n",
            "[nltk_data] Downloading package omw-1.4 to /root/nltk_data...\n"
          ]
        },
        {
          "output_type": "execute_result",
          "data": {
            "text/plain": [
              "True"
            ]
          },
          "metadata": {},
          "execution_count": 1
        }
      ],
      "source": [
        "import nltk\n",
        "nltk.download('wordnet')\n",
        "nltk.download('punkt')\n",
        "nltk.download('omw-1.4')"
      ]
    },
    {
      "cell_type": "code",
      "source": [
        "import nltk\n",
        "from nltk.stem import WordNetLemmatizer \n",
        "\n",
        "# Init the Wordnet Lemmatizer\n",
        "lemmatizer = WordNetLemmatizer()\n",
        "sentence = \"including sustainable walked gateway Mars privately era preparing conduct spacecraft With Space continue Launch help new owned platform spaceflight additional lunar enable human Orion technology astronaut leading laboratory development rocket building NASA Nearly agency researchers opportunities International ambitious The Armstrong international Neil also 11 robotic cutting-edge Apollo half-century growth research Moon develop Station low-Earth surface System world aid space discovery partners continued ’ station transportation deep ago orbit commercial exploration spaceships facilitate serve\""
      ],
      "metadata": {
        "id": "gP8FfsBMCIQE"
      },
      "execution_count": null,
      "outputs": []
    },
    {
      "cell_type": "code",
      "source": [
        "word_list = nltk.word_tokenize(sentence)\n",
        "print(word_list)"
      ],
      "metadata": {
        "colab": {
          "base_uri": "https://localhost:8080/"
        },
        "id": "-gWhQ19MCLGz",
        "outputId": "01c31fcd-3912-4f22-bb1b-dcb4d2d8afbf"
      },
      "execution_count": null,
      "outputs": [
        {
          "output_type": "stream",
          "name": "stdout",
          "text": [
            "['including', 'sustainable', 'walked', 'gateway', 'Mars', 'privately', 'era', 'preparing', 'conduct', 'spacecraft', 'With', 'Space', 'continue', 'Launch', 'help', 'new', 'owned', 'platform', 'spaceflight', 'additional', 'lunar', 'enable', 'human', 'Orion', 'technology', 'astronaut', 'leading', 'laboratory', 'development', 'rocket', 'building', 'NASA', 'Nearly', 'agency', 'researchers', 'opportunities', 'International', 'ambitious', 'The', 'Armstrong', 'international', 'Neil', 'also', '11', 'robotic', 'cutting-edge', 'Apollo', 'half-century', 'growth', 'research', 'Moon', 'develop', 'Station', 'low-Earth', 'surface', 'System', 'world', 'aid', 'space', 'discovery', 'partners', 'continued', '’', 'station', 'transportation', 'deep', 'ago', 'orbit', 'commercial', 'exploration', 'spaceships', 'facilitate', 'serve']\n"
          ]
        }
      ]
    },
    {
      "cell_type": "code",
      "source": [
        "lemmatized_output = ' '.join([lemmatizer.lemmatize(w) for w in word_list])\n",
        "print(lemmatized_output)"
      ],
      "metadata": {
        "colab": {
          "base_uri": "https://localhost:8080/"
        },
        "id": "nSV2YQMDCOnk",
        "outputId": "ee1f0d05-95b0-416a-fe83-49ac4f1f7ac3"
      },
      "execution_count": null,
      "outputs": [
        {
          "output_type": "stream",
          "name": "stdout",
          "text": [
            "including sustainable walked gateway Mars privately era preparing conduct spacecraft With Space continue Launch help new owned platform spaceflight additional lunar enable human Orion technology astronaut leading laboratory development rocket building NASA Nearly agency researcher opportunity International ambitious The Armstrong international Neil also 11 robotic cutting-edge Apollo half-century growth research Moon develop Station low-Earth surface System world aid space discovery partner continued ’ station transportation deep ago orbit commercial exploration spaceship facilitate serve\n"
          ]
        }
      ]
    },
    {
      "cell_type": "code",
      "source": [
        "print(\"Verbs\")\n",
        "for word in word_list:\n",
        "  print(lemmatizer.lemmatize(word, 'v'))"
      ],
      "metadata": {
        "colab": {
          "base_uri": "https://localhost:8080/"
        },
        "id": "9rYzwed0CRmn",
        "outputId": "552f5bc8-a3d4-4090-9840-c5025097fedb"
      },
      "execution_count": null,
      "outputs": [
        {
          "output_type": "stream",
          "name": "stdout",
          "text": [
            "Verbs\n",
            "include\n",
            "sustainable\n",
            "walk\n",
            "gateway\n",
            "Mars\n",
            "privately\n",
            "era\n",
            "prepare\n",
            "conduct\n",
            "spacecraft\n",
            "With\n",
            "Space\n",
            "continue\n",
            "Launch\n",
            "help\n",
            "new\n",
            "own\n",
            "platform\n",
            "spaceflight\n",
            "additional\n",
            "lunar\n",
            "enable\n",
            "human\n",
            "Orion\n",
            "technology\n",
            "astronaut\n",
            "lead\n",
            "laboratory\n",
            "development\n",
            "rocket\n",
            "build\n",
            "NASA\n",
            "Nearly\n",
            "agency\n",
            "researchers\n",
            "opportunities\n",
            "International\n",
            "ambitious\n",
            "The\n",
            "Armstrong\n",
            "international\n",
            "Neil\n",
            "also\n",
            "11\n",
            "robotic\n",
            "cutting-edge\n",
            "Apollo\n",
            "half-century\n",
            "growth\n",
            "research\n",
            "Moon\n",
            "develop\n",
            "Station\n",
            "low-Earth\n",
            "surface\n",
            "System\n",
            "world\n",
            "aid\n",
            "space\n",
            "discovery\n",
            "partner\n",
            "continue\n",
            "’\n",
            "station\n",
            "transportation\n",
            "deep\n",
            "ago\n",
            "orbit\n",
            "commercial\n",
            "exploration\n",
            "spaceships\n",
            "facilitate\n",
            "serve\n"
          ]
        }
      ]
    },
    {
      "cell_type": "code",
      "source": [
        "print(\"Adjectives\")\n",
        "for word in word_list:\n",
        "  print(lemmatizer.lemmatize(word, 'a'))"
      ],
      "metadata": {
        "colab": {
          "base_uri": "https://localhost:8080/"
        },
        "id": "iJYKcXuTCU6h",
        "outputId": "352e8ae9-9fc4-4456-f06b-80324ea016c4"
      },
      "execution_count": null,
      "outputs": [
        {
          "output_type": "stream",
          "name": "stdout",
          "text": [
            "Adjectives\n",
            "including\n",
            "sustainable\n",
            "walked\n",
            "gateway\n",
            "Mars\n",
            "privately\n",
            "era\n",
            "preparing\n",
            "conduct\n",
            "spacecraft\n",
            "With\n",
            "Space\n",
            "continue\n",
            "Launch\n",
            "help\n",
            "new\n",
            "owned\n",
            "platform\n",
            "spaceflight\n",
            "additional\n",
            "lunar\n",
            "enable\n",
            "human\n",
            "Orion\n",
            "technology\n",
            "astronaut\n",
            "leading\n",
            "laboratory\n",
            "development\n",
            "rocket\n",
            "building\n",
            "NASA\n",
            "Nearly\n",
            "agency\n",
            "researchers\n",
            "opportunities\n",
            "International\n",
            "ambitious\n",
            "The\n",
            "Armstrong\n",
            "international\n",
            "Neil\n",
            "also\n",
            "11\n",
            "robotic\n",
            "cutting-edge\n",
            "Apollo\n",
            "half-century\n",
            "growth\n",
            "research\n",
            "Moon\n",
            "develop\n",
            "Station\n",
            "low-Earth\n",
            "surface\n",
            "System\n",
            "world\n",
            "aid\n",
            "space\n",
            "discovery\n",
            "partners\n",
            "continued\n",
            "’\n",
            "station\n",
            "transportation\n",
            "deep\n",
            "ago\n",
            "orbit\n",
            "commercial\n",
            "exploration\n",
            "spaceships\n",
            "facilitate\n",
            "serve\n"
          ]
        }
      ]
    },
    {
      "cell_type": "code",
      "source": [
        "print(\"Nouns\")\n",
        "for word in word_list:\n",
        "  print(lemmatizer.lemmatize(word, 'n'))"
      ],
      "metadata": {
        "colab": {
          "base_uri": "https://localhost:8080/"
        },
        "id": "cu0EcAdRCY3j",
        "outputId": "ed9bc357-b0fa-4044-f229-75dfb19e59ad"
      },
      "execution_count": null,
      "outputs": [
        {
          "output_type": "stream",
          "name": "stdout",
          "text": [
            "Nouns\n",
            "including\n",
            "sustainable\n",
            "walked\n",
            "gateway\n",
            "Mars\n",
            "privately\n",
            "era\n",
            "preparing\n",
            "conduct\n",
            "spacecraft\n",
            "With\n",
            "Space\n",
            "continue\n",
            "Launch\n",
            "help\n",
            "new\n",
            "owned\n",
            "platform\n",
            "spaceflight\n",
            "additional\n",
            "lunar\n",
            "enable\n",
            "human\n",
            "Orion\n",
            "technology\n",
            "astronaut\n",
            "leading\n",
            "laboratory\n",
            "development\n",
            "rocket\n",
            "building\n",
            "NASA\n",
            "Nearly\n",
            "agency\n",
            "researcher\n",
            "opportunity\n",
            "International\n",
            "ambitious\n",
            "The\n",
            "Armstrong\n",
            "international\n",
            "Neil\n",
            "also\n",
            "11\n",
            "robotic\n",
            "cutting-edge\n",
            "Apollo\n",
            "half-century\n",
            "growth\n",
            "research\n",
            "Moon\n",
            "develop\n",
            "Station\n",
            "low-Earth\n",
            "surface\n",
            "System\n",
            "world\n",
            "aid\n",
            "space\n",
            "discovery\n",
            "partner\n",
            "continued\n",
            "’\n",
            "station\n",
            "transportation\n",
            "deep\n",
            "ago\n",
            "orbit\n",
            "commercial\n",
            "exploration\n",
            "spaceship\n",
            "facilitate\n",
            "serve\n"
          ]
        }
      ]
    },
    {
      "cell_type": "code",
      "source": [
        "print(\"Adverbs\")\n",
        "for word in word_list:\n",
        "  print(lemmatizer.lemmatize(word, 'r'))"
      ],
      "metadata": {
        "colab": {
          "base_uri": "https://localhost:8080/"
        },
        "id": "lGx7YC3fCa_h",
        "outputId": "761132be-05b6-4308-e4df-cec6bdcc4e4c"
      },
      "execution_count": null,
      "outputs": [
        {
          "output_type": "stream",
          "name": "stdout",
          "text": [
            "Adverbs\n",
            "including\n",
            "sustainable\n",
            "walked\n",
            "gateway\n",
            "Mars\n",
            "privately\n",
            "era\n",
            "preparing\n",
            "conduct\n",
            "spacecraft\n",
            "With\n",
            "Space\n",
            "continue\n",
            "Launch\n",
            "help\n",
            "new\n",
            "owned\n",
            "platform\n",
            "spaceflight\n",
            "additional\n",
            "lunar\n",
            "enable\n",
            "human\n",
            "Orion\n",
            "technology\n",
            "astronaut\n",
            "leading\n",
            "laboratory\n",
            "development\n",
            "rocket\n",
            "building\n",
            "NASA\n",
            "Nearly\n",
            "agency\n",
            "researchers\n",
            "opportunities\n",
            "International\n",
            "ambitious\n",
            "The\n",
            "Armstrong\n",
            "international\n",
            "Neil\n",
            "also\n",
            "11\n",
            "robotic\n",
            "cutting-edge\n",
            "Apollo\n",
            "half-century\n",
            "growth\n",
            "research\n",
            "Moon\n",
            "develop\n",
            "Station\n",
            "low-Earth\n",
            "surface\n",
            "System\n",
            "world\n",
            "aid\n",
            "space\n",
            "discovery\n",
            "partners\n",
            "continued\n",
            "’\n",
            "station\n",
            "transportation\n",
            "deep\n",
            "ago\n",
            "orbit\n",
            "commercial\n",
            "exploration\n",
            "spaceships\n",
            "facilitate\n",
            "serve\n"
          ]
        }
      ]
    },
    {
      "cell_type": "code",
      "source": [
        "print(\"{0:20}{1:20}{2:20}{3:30}{4:40}{5:50}\".format(\"Word\",\"Verb\",\"Adjective\",\"Noun\",\"Adverb\"))\n",
        "for word in word_list:\n",
        "    print(\"{0:20}{1:20}{2:20}{3:30}{4:40}\".format(word,lemmatizer.lemmatize(word, 'v'),lemmatizer.lemmatize(word, 'a'),lemmatizer.lemmatize(word, 'n'),lemmatizer.lemmatize(word, 'r')))"
      ],
      "metadata": {
        "id": "GUR7Y9cHCeJO",
        "outputId": "2d2a0143-e1ed-4c64-b200-ad7f3c6d07df",
        "colab": {
          "base_uri": "https://localhost:8080/",
          "height": 217
        }
      },
      "execution_count": null,
      "outputs": [
        {
          "output_type": "error",
          "ename": "IndexError",
          "evalue": "ignored",
          "traceback": [
            "\u001b[0;31m---------------------------------------------------------------------------\u001b[0m",
            "\u001b[0;31mIndexError\u001b[0m                                Traceback (most recent call last)",
            "\u001b[0;32m<ipython-input-8-b55cd0d8fb2e>\u001b[0m in \u001b[0;36m<module>\u001b[0;34m\u001b[0m\n\u001b[0;32m----> 1\u001b[0;31m \u001b[0mprint\u001b[0m\u001b[0;34m(\u001b[0m\u001b[0;34m\"{0:20}{1:20}{2:20}{3:30}{4:40}{5:50}\"\u001b[0m\u001b[0;34m.\u001b[0m\u001b[0mformat\u001b[0m\u001b[0;34m(\u001b[0m\u001b[0;34m\"Word\"\u001b[0m\u001b[0;34m,\u001b[0m\u001b[0;34m\"Verb\"\u001b[0m\u001b[0;34m,\u001b[0m\u001b[0;34m\"Adjective\"\u001b[0m\u001b[0;34m,\u001b[0m\u001b[0;34m\"Noun\"\u001b[0m\u001b[0;34m,\u001b[0m\u001b[0;34m\"Adverb\"\u001b[0m\u001b[0;34m)\u001b[0m\u001b[0;34m)\u001b[0m\u001b[0;34m\u001b[0m\u001b[0;34m\u001b[0m\u001b[0m\n\u001b[0m\u001b[1;32m      2\u001b[0m \u001b[0;32mfor\u001b[0m \u001b[0mword\u001b[0m \u001b[0;32min\u001b[0m \u001b[0mword_list\u001b[0m\u001b[0;34m:\u001b[0m\u001b[0;34m\u001b[0m\u001b[0;34m\u001b[0m\u001b[0m\n\u001b[1;32m      3\u001b[0m     \u001b[0mprint\u001b[0m\u001b[0;34m(\u001b[0m\u001b[0;34m\"{0:20}{1:20}{2:20}{3:30}{4:40}\"\u001b[0m\u001b[0;34m.\u001b[0m\u001b[0mformat\u001b[0m\u001b[0;34m(\u001b[0m\u001b[0mword\u001b[0m\u001b[0;34m,\u001b[0m\u001b[0mlemmatizer\u001b[0m\u001b[0;34m.\u001b[0m\u001b[0mlemmatize\u001b[0m\u001b[0;34m(\u001b[0m\u001b[0mword\u001b[0m\u001b[0;34m,\u001b[0m \u001b[0;34m'v'\u001b[0m\u001b[0;34m)\u001b[0m\u001b[0;34m,\u001b[0m\u001b[0mlemmatizer\u001b[0m\u001b[0;34m.\u001b[0m\u001b[0mlemmatize\u001b[0m\u001b[0;34m(\u001b[0m\u001b[0mword\u001b[0m\u001b[0;34m,\u001b[0m \u001b[0;34m'a'\u001b[0m\u001b[0;34m)\u001b[0m\u001b[0;34m,\u001b[0m\u001b[0mlemmatizer\u001b[0m\u001b[0;34m.\u001b[0m\u001b[0mlemmatize\u001b[0m\u001b[0;34m(\u001b[0m\u001b[0mword\u001b[0m\u001b[0;34m,\u001b[0m \u001b[0;34m'n'\u001b[0m\u001b[0;34m)\u001b[0m\u001b[0;34m,\u001b[0m\u001b[0mlemmatizer\u001b[0m\u001b[0;34m.\u001b[0m\u001b[0mlemmatize\u001b[0m\u001b[0;34m(\u001b[0m\u001b[0mword\u001b[0m\u001b[0;34m,\u001b[0m \u001b[0;34m'r'\u001b[0m\u001b[0;34m)\u001b[0m\u001b[0;34m)\u001b[0m\u001b[0;34m)\u001b[0m\u001b[0;34m\u001b[0m\u001b[0;34m\u001b[0m\u001b[0m\n",
            "\u001b[0;31mIndexError\u001b[0m: tuple index out of range"
          ]
        }
      ]
    },
    {
      "cell_type": "code",
      "source": [],
      "metadata": {
        "id": "Ubx_YXXjbawY"
      },
      "execution_count": null,
      "outputs": []
    }
  ]
}