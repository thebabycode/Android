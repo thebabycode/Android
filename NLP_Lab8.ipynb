{
  "nbformat": 4,
  "nbformat_minor": 0,
  "metadata": {
    "colab": {
      "provenance": [],
      "authorship_tag": "ABX9TyOM0t2QSI+tq1TuC8vtpbD+",
      "include_colab_link": true
    },
    "kernelspec": {
      "name": "python3",
      "display_name": "Python 3"
    },
    "language_info": {
      "name": "python"
    }
  },
  "cells": [
    {
      "cell_type": "markdown",
      "metadata": {
        "id": "view-in-github",
        "colab_type": "text"
      },
      "source": [
        "<a href=\"https://colab.research.google.com/github/thebabycode/NLP/blob/main/NLP_Lab8.ipynb\" target=\"_parent\"><img src=\"https://colab.research.google.com/assets/colab-badge.svg\" alt=\"Open In Colab\"/></a>"
      ]
    },
    {
      "cell_type": "code",
      "execution_count": null,
      "metadata": {
        "colab": {
          "base_uri": "https://localhost:8080/"
        },
        "id": "K8I1r6w-DOM8",
        "outputId": "65076efc-ff9e-4f61-da46-8dae5c2f8121"
      },
      "outputs": [
        {
          "output_type": "stream",
          "name": "stderr",
          "text": [
            "[nltk_data] Downloading package wordnet to /root/nltk_data...\n",
            "[nltk_data] Downloading package punkt to /root/nltk_data...\n",
            "[nltk_data]   Unzipping tokenizers/punkt.zip.\n",
            "[nltk_data] Downloading package omw-1.4 to /root/nltk_data...\n",
            "[nltk_data] Downloading package stopwords to /root/nltk_data...\n",
            "[nltk_data]   Unzipping corpora/stopwords.zip.\n"
          ]
        }
      ],
      "source": [
        "import nltk\n",
        "import re\n",
        "nltk.download('wordnet')\n",
        "nltk.download('punkt')\n",
        "nltk.download('omw-1.4')\n",
        "nltk.download('stopwords')\n",
        "from nltk.corpus import stopwords\n",
        "from nltk.tokenize import word_tokenize\n",
        "from nltk.probability import FreqDist\n",
        "from nltk.stem import PorterStemmer\n",
        "from nltk.stem import WordNetLemmatizer "
      ]
    },
    {
      "cell_type": "code",
      "source": [
        "stop_words = set(stopwords.words('english'))\n",
        "porter = PorterStemmer()\n",
        "lemmatizer = WordNetLemmatizer()\n",
        "stop_words = set(stopwords.words('english'))\n",
        "sentence = \"meeting rocks corpora better In the first century A.D., the great Roman author and statesman Pliny the Younger recorded one of the first notable ghost stories in his letters, which became famous for their vivid account of life during the heyday of the Roman Empire. Pliny reported that the specter of an old man with a long beard, rattling chains, was haunting his house in Athens. The Greek writer Lucian and Pliny’s fellow Roman Plautus also wrote memorable ghost stories. He was running and eating at same time He has bad habit of swimming after playing long hours in the Sun arrived early After some time on the market, the Stambosvky family put down a down payment and were ready to relocate from Manhattan, when a contractor made a passing comment about the home's haunted reputation. The Ackleys then found themselves entangled in a legal battle over whether or not they should have disclosed the haunted nature of the house. In a landmark decision now referred to as “The Ghostbusters Ruling,” Ackley House was deemed haunted by the New York Supreme Court, and the buyers were able to pull out of the sale while also getting half of their down payment back. 1 La Veta Place has since been home to several celebrities, including musician Ingrid Michaelson\"\n",
        "strn=re.sub(r'[^\\w\\s]','',sentence)\n",
        "f = word_tokenize(strn)\n",
        "        \n",
        "f = [*set(f)]\n",
        "print(f)\n",
        "res = [*set(f)]\n"
      ],
      "metadata": {
        "colab": {
          "base_uri": "https://localhost:8080/"
        },
        "id": "YdhIml6BDWDV",
        "outputId": "c81328e0-7396-45f1-f04e-f9e599edf274"
      },
      "execution_count": null,
      "outputs": [
        {
          "output_type": "stream",
          "name": "stdout",
          "text": [
            "['Manhattan', 'a', 'and', 'some', 'statesman', 'first', 'family', 'one', 'Stambosvky', 'by', 'writer', 'reputation', 'early', 'time', 'Plautus', 'back', 'life', 'Ackley', 'York', 'market', 'homes', 'Empire', 'were', 'during', 'Ingrid', 'should', 'wrote', 'or', 'man', 'with', 'Michaelson', 'famous', 'been', 'relocate', 'La', 'same', 'fellow', 'meeting', 'The', 'as', 'Roman', 'haunting', 'playing', 'arrived', 'better', 'including', 'ghost', 'his', 'recorded', 'sale', 'they', 'He', 'since', 'habit', 'Sun', 'beard', 'great', 'found', 'half', 'eating', 'have', 'hours', 'while', 'musician', 'After', 'memorable', 'comment', 'Veta', 'celebrities', 'long', 'which', 'In', 'has', 'from', 'AD', 'not', 'buyers', 'Place', 'nature', 'house', 'pull', 'over', 'their', 'New', 'Court', 'battle', 'entangled', 'bad', 'Ackleys', 'after', 'letters', 'for', 'legal', 'House', 'Lucian', 'Younger', 'Pliny', 'then', 'ready', 'deemed', 'getting', 'passing', 'chains', 'decision', 'referred', 'Ruling', 'stories', 'swimming', 'century', 'was', 'running', 'Supreme', 'author', 'reported', 'out', 'rocks', 'on', 'put', 'vivid', 'now', 'became', 'that', 'landmark', 'Greek', 'specter', 'at', 'able', 'haunted', 'in', 'about', 'contractor', 'corpora', 'rattling', 'home', 'heyday', '1', 'notable', 'when', 'also', 'the', 'old', 'made', 'of', 'several', 'payment', 'disclosed', 'to', 'Ghostbusters', 'Plinys', 'down', 'an', 'Athens', 'themselves', 'account', 'whether']\n"
          ]
        }
      ]
    },
    {
      "cell_type": "code",
      "source": [
        "print(\"{0:40}{1:40}{2:40}\".format(\"Word\",\"Stemming\",\"Lemmatization\"))\n",
        "for word in res:\n",
        "    print(\"{0:40}{1:40}{2:40}\".format(word,porter.stem(word),lemmatizer.lemmatize(word)))"
      ],
      "metadata": {
        "colab": {
          "base_uri": "https://localhost:8080/"
        },
        "id": "pP9LnyeiDZiq",
        "outputId": "0f6dc1ea-6764-41f1-b0e1-a960a7ace93c"
      },
      "execution_count": null,
      "outputs": [
        {
          "output_type": "stream",
          "name": "stdout",
          "text": [
            "Word                                    Stemming                                Lemmatization                           \n",
            "Manhattan                               manhattan                               Manhattan                               \n",
            "a                                       a                                       a                                       \n",
            "and                                     and                                     and                                     \n",
            "some                                    some                                    some                                    \n",
            "statesman                               statesman                               statesman                               \n",
            "first                                   first                                   first                                   \n",
            "family                                  famili                                  family                                  \n",
            "one                                     one                                     one                                     \n",
            "Stambosvky                              stambosvki                              Stambosvky                              \n",
            "by                                      by                                      by                                      \n",
            "writer                                  writer                                  writer                                  \n",
            "early                                   earli                                   early                                   \n",
            "time                                    time                                    time                                    \n",
            "Plautus                                 plautu                                  Plautus                                 \n",
            "back                                    back                                    back                                    \n",
            "life                                    life                                    life                                    \n",
            "Ackley                                  ackley                                  Ackley                                  \n",
            "York                                    york                                    York                                    \n",
            "market                                  market                                  market                                  \n",
            "homes                                   home                                    home                                    \n",
            "Empire                                  empir                                   Empire                                  \n",
            "were                                    were                                    were                                    \n",
            "during                                  dure                                    during                                  \n",
            "Ingrid                                  ingrid                                  Ingrid                                  \n",
            "should                                  should                                  should                                  \n",
            "wrote                                   wrote                                   wrote                                   \n",
            "or                                      or                                      or                                      \n",
            "man                                     man                                     man                                     \n",
            "Michaelson                              michaelson                              Michaelson                              \n",
            "with                                    with                                    with                                    \n",
            "been                                    been                                    been                                    \n",
            "famous                                  famou                                   famous                                  \n",
            "relocate                                reloc                                   relocate                                \n",
            "La                                      la                                      La                                      \n",
            "same                                    same                                    same                                    \n",
            "fellow                                  fellow                                  fellow                                  \n",
            "meeting                                 meet                                    meeting                                 \n",
            "The                                     the                                     The                                     \n",
            "as                                      as                                      a                                       \n",
            "Roman                                   roman                                   Roman                                   \n",
            "haunting                                haunt                                   haunting                                \n",
            "playing                                 play                                    playing                                 \n",
            "arrived                                 arriv                                   arrived                                 \n",
            "better                                  better                                  better                                  \n",
            "including                               includ                                  including                               \n",
            "ghost                                   ghost                                   ghost                                   \n",
            "his                                     hi                                      his                                     \n",
            "recorded                                record                                  recorded                                \n",
            "sale                                    sale                                    sale                                    \n",
            "they                                    they                                    they                                    \n",
            "He                                      he                                      He                                      \n",
            "since                                   sinc                                    since                                   \n",
            "habit                                   habit                                   habit                                   \n",
            "Sun                                     sun                                     Sun                                     \n",
            "beard                                   beard                                   beard                                   \n",
            "great                                   great                                   great                                   \n",
            "found                                   found                                   found                                   \n",
            "half                                    half                                    half                                    \n",
            "eating                                  eat                                     eating                                  \n",
            "have                                    have                                    have                                    \n",
            "hours                                   hour                                    hour                                    \n",
            "account                                 account                                 account                                 \n",
            "while                                   while                                   while                                   \n",
            "musician                                musician                                musician                                \n",
            "After                                   after                                   After                                   \n",
            "memorable                               memor                                   memorable                               \n",
            "comment                                 comment                                 comment                                 \n",
            "Veta                                    veta                                    Veta                                    \n",
            "celebrities                             celebr                                  celebrity                               \n",
            "long                                    long                                    long                                    \n",
            "which                                   which                                   which                                   \n",
            "In                                      in                                      In                                      \n",
            "has                                     ha                                      ha                                      \n",
            "from                                    from                                    from                                    \n",
            "AD                                      ad                                      AD                                      \n",
            "not                                     not                                     not                                     \n",
            "buyers                                  buyer                                   buyer                                   \n",
            "Place                                   place                                   Place                                   \n",
            "nature                                  natur                                   nature                                  \n",
            "house                                   hous                                    house                                   \n",
            "pull                                    pull                                    pull                                    \n",
            "over                                    over                                    over                                    \n",
            "their                                   their                                   their                                   \n",
            "New                                     new                                     New                                     \n",
            "Court                                   court                                   Court                                   \n",
            "battle                                  battl                                   battle                                  \n",
            "entangled                               entangl                                 entangled                               \n",
            "bad                                     bad                                     bad                                     \n",
            "Ackleys                                 ackley                                  Ackleys                                 \n",
            "after                                   after                                   after                                   \n",
            "letters                                 letter                                  letter                                  \n",
            "for                                     for                                     for                                     \n",
            "legal                                   legal                                   legal                                   \n",
            "House                                   hous                                    House                                   \n",
            "Lucian                                  lucian                                  Lucian                                  \n",
            "Younger                                 younger                                 Younger                                 \n",
            "Pliny                                   plini                                   Pliny                                   \n",
            "then                                    then                                    then                                    \n",
            "ready                                   readi                                   ready                                   \n",
            "deemed                                  deem                                    deemed                                  \n",
            "getting                                 get                                     getting                                 \n",
            "passing                                 pass                                    passing                                 \n",
            "chains                                  chain                                   chain                                   \n",
            "decision                                decis                                   decision                                \n",
            "referred                                refer                                   referred                                \n",
            "Ruling                                  rule                                    Ruling                                  \n",
            "stories                                 stori                                   story                                   \n",
            "swimming                                swim                                    swimming                                \n",
            "century                                 centuri                                 century                                 \n",
            "was                                     wa                                      wa                                      \n",
            "running                                 run                                     running                                 \n",
            "Supreme                                 suprem                                  Supreme                                 \n",
            "author                                  author                                  author                                  \n",
            "reported                                report                                  reported                                \n",
            "out                                     out                                     out                                     \n",
            "rocks                                   rock                                    rock                                    \n",
            "on                                      on                                      on                                      \n",
            "put                                     put                                     put                                     \n",
            "vivid                                   vivid                                   vivid                                   \n",
            "now                                     now                                     now                                     \n",
            "became                                  becam                                   became                                  \n",
            "that                                    that                                    that                                    \n",
            "landmark                                landmark                                landmark                                \n",
            "Greek                                   greek                                   Greek                                   \n",
            "specter                                 specter                                 specter                                 \n",
            "at                                      at                                      at                                      \n",
            "able                                    abl                                     able                                    \n",
            "haunted                                 haunt                                   haunted                                 \n",
            "in                                      in                                      in                                      \n",
            "about                                   about                                   about                                   \n",
            "contractor                              contractor                              contractor                              \n",
            "corpora                                 corpora                                 corpus                                  \n",
            "rattling                                rattl                                   rattling                                \n",
            "home                                    home                                    home                                    \n",
            "heyday                                  heyday                                  heyday                                  \n",
            "1                                       1                                       1                                       \n",
            "notable                                 notabl                                  notable                                 \n",
            "when                                    when                                    when                                    \n",
            "also                                    also                                    also                                    \n",
            "the                                     the                                     the                                     \n",
            "old                                     old                                     old                                     \n",
            "made                                    made                                    made                                    \n",
            "of                                      of                                      of                                      \n",
            "several                                 sever                                   several                                 \n",
            "payment                                 payment                                 payment                                 \n",
            "disclosed                               disclos                                 disclosed                               \n",
            "to                                      to                                      to                                      \n",
            "Ghostbusters                            ghostbust                               Ghostbusters                            \n",
            "Plinys                                  plini                                   Plinys                                  \n",
            "down                                    down                                    down                                    \n",
            "an                                      an                                      an                                      \n",
            "Athens                                  athen                                   Athens                                  \n",
            "themselves                              themselv                                themselves                              \n",
            "reputation                              reput                                   reputation                              \n",
            "whether                                 whether                                 whether                                 \n"
          ]
        }
      ]
    },
    {
      "cell_type": "markdown",
      "source": [
        "The main difference between stemming and Lemmatization is that stemming tries to remove some of the prefix or suffixes of the word to get to the word root or lemma often leading to incorrect meanings and spelling , while in lemmatization,it considers the context and converts the word to its meaningful base form, which is called Lemma"
      ],
      "metadata": {
        "id": "4L9TW6o7DfwV"
      }
    }
  ]
}