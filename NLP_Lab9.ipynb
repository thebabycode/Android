{
  "nbformat": 4,
  "nbformat_minor": 0,
  "metadata": {
    "colab": {
      "provenance": [],
      "authorship_tag": "ABX9TyO+x/VvlGe5yEnKbO/Wdv68",
      "include_colab_link": true
    },
    "kernelspec": {
      "name": "python3",
      "display_name": "Python 3"
    },
    "language_info": {
      "name": "python"
    }
  },
  "cells": [
    {
      "cell_type": "markdown",
      "metadata": {
        "id": "view-in-github",
        "colab_type": "text"
      },
      "source": [
        "<a href=\"https://colab.research.google.com/github/thebabycode/NLP/blob/main/NLP_Lab9.ipynb\" target=\"_parent\"><img src=\"https://colab.research.google.com/assets/colab-badge.svg\" alt=\"Open In Colab\"/></a>"
      ]
    },
    {
      "cell_type": "markdown",
      "source": [
        "NLP POS TAGGING - CHUNKING"
      ],
      "metadata": {
        "id": "k0wGEX3WRjZ2"
      }
    },
    {
      "cell_type": "code",
      "execution_count": 1,
      "metadata": {
        "id": "OO2BKsmhEahs",
        "colab": {
          "base_uri": "https://localhost:8080/"
        },
        "outputId": "8d8dec4c-fdc0-4c96-fda3-fa71a00d9ec3"
      },
      "outputs": [
        {
          "output_type": "stream",
          "name": "stderr",
          "text": [
            "[nltk_data] Downloading package averaged_perceptron_tagger to\n",
            "[nltk_data]     /root/nltk_data...\n",
            "[nltk_data]   Unzipping taggers/averaged_perceptron_tagger.zip.\n",
            "[nltk_data] Downloading package punkt to /root/nltk_data...\n",
            "[nltk_data]   Unzipping tokenizers/punkt.zip.\n"
          ]
        },
        {
          "output_type": "stream",
          "name": "stdout",
          "text": [
            "After Split: ['learn', 'php', 'from', 'guru99', 'and', 'make', 'study', 'easy']\n",
            "After Token: [('learn', 'JJ'), ('php', 'NN'), ('from', 'IN'), ('guru99', 'NN'), ('and', 'CC'), ('make', 'VB'), ('study', 'NN'), ('easy', 'JJ')]\n",
            "After Regex: chunk.RegexpParser with 1 stages:\n",
            "RegexpChunkParser with 1 rules:\n",
            "       <ChunkRule: '<NN.?>*<VBD.?>*<JJ.?>*<CC>?'>\n",
            "After Chunking (S\n",
            "  (mychunk learn/JJ)\n",
            "  (mychunk php/NN)\n",
            "  from/IN\n",
            "  (mychunk guru99/NN and/CC)\n",
            "  make/VB\n",
            "  (mychunk study/NN easy/JJ))\n"
          ]
        }
      ],
      "source": [
        "import nltk\n",
        "nltk.download('averaged_perceptron_tagger')\n",
        "nltk.download('punkt')\n",
        "from nltk import pos_tag\n",
        "from nltk import RegexpParser\n",
        "text =\"learn php from guru99 and make study easy\".split()\n",
        "print(\"After Split:\",text)\n",
        "tokens_tag = pos_tag(text)\n",
        "print(\"After Token:\",tokens_tag)\n",
        "patterns= \"\"\"mychunk:{<NN.?>*<VBD.?>*<JJ.?>*<CC>?}\"\"\"\n",
        "chunker = RegexpParser(patterns)\n",
        "print(\"After Regex:\",chunker)\n",
        "output = chunker.parse(tokens_tag)\n",
        "print(\"After Chunking\",output)"
      ]
    },
    {
      "cell_type": "markdown",
      "source": [
        "PERFORMING POS TAGGING ON SAMPLE WORDS"
      ],
      "metadata": {
        "id": "df7ESHwRRnHf"
      }
    },
    {
      "cell_type": "code",
      "source": [
        "text = \"learn php from fast with or NASA will EXPLORE kepler belt again\"\n",
        "tokens = nltk.word_tokenize(text)\n",
        "print(tokens)\n",
        "tag = nltk.pos_tag(tokens)\n",
        "print(tag)\n",
        "grammar = \"NP: {<DT>?<JJ>*<NN>}\"\n",
        "cp  =nltk.RegexpParser(grammar)\n",
        "result = cp.parse(tag)\n",
        "print(result)"
      ],
      "metadata": {
        "colab": {
          "base_uri": "https://localhost:8080/"
        },
        "id": "JazBs2dPRIEw",
        "outputId": "38489a89-6723-4221-9f41-5afab927fe18"
      },
      "execution_count": 2,
      "outputs": [
        {
          "output_type": "stream",
          "name": "stdout",
          "text": [
            "['learn', 'php', 'from', 'fast', 'with', 'or', 'NASA', 'will', 'EXPLORE', 'kepler', 'belt', 'again']\n",
            "[('learn', 'JJ'), ('php', 'NN'), ('from', 'IN'), ('fast', 'NN'), ('with', 'IN'), ('or', 'CC'), ('NASA', 'NNP'), ('will', 'MD'), ('EXPLORE', 'VB'), ('kepler', 'NN'), ('belt', 'NN'), ('again', 'RB')]\n",
            "(S\n",
            "  (NP learn/JJ php/NN)\n",
            "  from/IN\n",
            "  (NP fast/NN)\n",
            "  with/IN\n",
            "  or/CC\n",
            "  NASA/NNP\n",
            "  will/MD\n",
            "  EXPLORE/VB\n",
            "  (NP kepler/NN)\n",
            "  (NP belt/NN)\n",
            "  again/RB)\n"
          ]
        }
      ]
    },
    {
      "cell_type": "markdown",
      "source": [
        "COUNTS DIFFERENT POS TAGS IN A SENTENCE"
      ],
      "metadata": {
        "id": "TtaTD0YZRrQT"
      }
    },
    {
      "cell_type": "code",
      "source": [
        "from collections import Counter\n",
        "import nltk\n",
        "text = \"Guru99,W3schools,Analytics, Coursera is one of the best sites to learn WEB, SAP, Ethical Hacking and much more online.\"\n",
        "lower_case = text.lower()\n",
        "tokens = nltk.word_tokenize(lower_case)\n",
        "tags = nltk.pos_tag(tokens)\n",
        "counts = Counter( tag for word,  tag in tags)\n",
        "print(counts)"
      ],
      "metadata": {
        "colab": {
          "base_uri": "https://localhost:8080/"
        },
        "id": "IdBZ_5sBRM2z",
        "outputId": "ae4c69c0-ab6b-4674-ce42-462f86ad7ad7"
      },
      "execution_count": 3,
      "outputs": [
        {
          "output_type": "stream",
          "name": "stdout",
          "text": [
            "Counter({'NN': 6, ',': 5, 'NNS': 3, 'VBZ': 1, 'CD': 1, 'IN': 1, 'DT': 1, 'JJS': 1, 'TO': 1, 'VB': 1, 'JJ': 1, 'CC': 1, 'RB': 1, 'JJR': 1, '.': 1})\n"
          ]
        }
      ]
    },
    {
      "cell_type": "markdown",
      "source": [
        "SHOWING A FREQUENCY DISTRIBUTION PLOT FOR POS TAGGING"
      ],
      "metadata": {
        "id": "f8NvOYvlRwxT"
      }
    },
    {
      "cell_type": "code",
      "source": [
        "a = \"Guru99,W3schools,Analytics, Coursera is the site where you can find the best tutorials for Software Testing     Tutorial, SAP Course for Beginners. Java Tutorial for Beginners and much more. Please     visit the site guru99.com and much more.\"\n",
        "lower_case = a.lower()\n",
        "tokens = nltk.word_tokenize(lower_case)\n",
        "tags = nltk.pos_tag(tokens)\n",
        "counts = Counter( tag for word,  tag in tags)\n",
        "words = nltk.tokenize.word_tokenize(a)\n",
        "fd = nltk.FreqDist(counts)\n",
        "fd.plot()"
      ],
      "metadata": {
        "colab": {
          "base_uri": "https://localhost:8080/",
          "height": 310
        },
        "id": "u8YcEIzLRRfc",
        "outputId": "35a13d38-f8ba-4fe4-f878-a4fb7cf2f491"
      },
      "execution_count": 4,
      "outputs": [
        {
          "output_type": "display_data",
          "data": {
            "text/plain": [
              "<Figure size 432x288 with 1 Axes>"
            ],
            "image/png": "[encoded data removed]"
          },
          "metadata": {
            "needs_background": "light"
          }
        },
        {
          "output_type": "execute_result",
          "data": {
            "text/plain": [
              "<matplotlib.axes._subplots.AxesSubplot at 0x7f157c5dbd10>"
            ]
          },
          "metadata": {},
          "execution_count": 4
        }
      ]
    },
    {
      "cell_type": "markdown",
      "source": [
        "BIGRAMS"
      ],
      "metadata": {
        "id": "zt-u2HLfR7Lq"
      }
    },
    {
      "cell_type": "code",
      "source": [
        "text = \"Guru99,W3schools,Analytics, Coursera is a totally new kind of learning experience.\"\n",
        "Tokens = nltk.word_tokenize(text)\n",
        "output = list(nltk.bigrams(Tokens))\n",
        "print(output)"
      ],
      "metadata": {
        "colab": {
          "base_uri": "https://localhost:8080/"
        },
        "id": "uwBAuSS_RUud",
        "outputId": "5660ed2d-456c-4438-cc05-35bf8fdff1fc"
      },
      "execution_count": 5,
      "outputs": [
        {
          "output_type": "stream",
          "name": "stdout",
          "text": [
            "[('Guru99', ','), (',', 'W3schools'), ('W3schools', ','), (',', 'Analytics'), ('Analytics', ','), (',', 'Coursera'), ('Coursera', 'is'), ('is', 'a'), ('a', 'totally'), ('totally', 'new'), ('new', 'kind'), ('kind', 'of'), ('of', 'learning'), ('learning', 'experience'), ('experience', '.')]\n"
          ]
        }
      ]
    },
    {
      "cell_type": "markdown",
      "source": [
        "TRIGRAMS"
      ],
      "metadata": {
        "id": "EoyHKJ2SSB2b"
      }
    },
    {
      "cell_type": "code",
      "source": [
        "text = \"Guru99,W3schools,Analytics, Coursera is a totally new kind of learning experience\"\n",
        "Tokens = nltk.word_tokenize(text)\n",
        "output = list(nltk.trigrams(Tokens))\n",
        "print(output)"
      ],
      "metadata": {
        "colab": {
          "base_uri": "https://localhost:8080/"
        },
        "id": "tpx35q3aR-GX",
        "outputId": "b678a0e3-4034-4d39-c242-e3f2802fe31b"
      },
      "execution_count": 6,
      "outputs": [
        {
          "output_type": "stream",
          "name": "stdout",
          "text": [
            "[('Guru99', ',', 'W3schools'), (',', 'W3schools', ','), ('W3schools', ',', 'Analytics'), (',', 'Analytics', ','), ('Analytics', ',', 'Coursera'), (',', 'Coursera', 'is'), ('Coursera', 'is', 'a'), ('is', 'a', 'totally'), ('a', 'totally', 'new'), ('totally', 'new', 'kind'), ('new', 'kind', 'of'), ('kind', 'of', 'learning'), ('of', 'learning', 'experience')]\n"
          ]
        }
      ]
    },
    {
      "cell_type": "markdown",
      "source": [
        "POS TAGGING A FULL SENTENCE"
      ],
      "metadata": {
        "id": "n7_rTDS2SIzU"
      }
    },
    {
      "cell_type": "code",
      "source": [
        "text = \"Hello Guru99,W3schools,Analytics, Coursera, You have to build a very good site, and I love visiting your site.\"\n",
        "sentence = nltk.sent_tokenize(text)\n",
        "for sent in sentence:\n",
        "\t print(nltk.pos_tag(nltk.word_tokenize(sent)))"
      ],
      "metadata": {
        "colab": {
          "base_uri": "https://localhost:8080/"
        },
        "id": "FFZeJ68cSFpn",
        "outputId": "32ecb73f-7246-4228-c7f6-381bab12b61d"
      },
      "execution_count": 7,
      "outputs": [
        {
          "output_type": "stream",
          "name": "stdout",
          "text": [
            "[('Hello', 'NNP'), ('Guru99', 'NNP'), (',', ','), ('W3schools', 'NNP'), (',', ','), ('Analytics', 'NNP'), (',', ','), ('Coursera', 'NNP'), (',', ','), ('You', 'PRP'), ('have', 'VBP'), ('to', 'TO'), ('build', 'VB'), ('a', 'DT'), ('very', 'RB'), ('good', 'JJ'), ('site', 'NN'), (',', ','), ('and', 'CC'), ('I', 'PRP'), ('love', 'VBP'), ('visiting', 'VBG'), ('your', 'PRP$'), ('site', 'NN'), ('.', '.')]\n"
          ]
        }
      ]
    },
    {
      "cell_type": "markdown",
      "source": [
        "PERFORMING POS TAGGING ON A FULL PARAGRAPH WHILE REMOVING STOPWORDS"
      ],
      "metadata": {
        "id": "aUNRlHuJSP0j"
      }
    },
    {
      "cell_type": "code",
      "source": [
        "import nltk\n",
        "nltk.download('stopwords')\n",
        "from nltk.corpus import stopwords\n",
        "from nltk.tokenize import word_tokenize, sent_tokenize\n",
        "stop_words = set(stopwords.words('english'))\n",
        " \n",
        "txt = \"Sukanya, Rajib and Naba are my good friends. \" \\\n",
        "    \"Sukanya is getting married next year. \" \\\n",
        "    \"Marriage is a big step in one’s life.\" \\\n",
        "    \"It is both exciting and frightening. \" \\\n",
        "    \"But friendship is a sacred bond between people.\" \\\n",
        "    \"It is a special kind of love between us. \" \\\n",
        "    \"Many of you must have tried searching for a friend \"\\\n",
        "    \"but never found the right one.\"\n",
        " \n",
        "tokenized = sent_tokenize(txt)\n",
        "for i in tokenized:\n",
        "  wordsList = nltk.word_tokenize(i)\n",
        "  wordsList = [w for w in wordsList if not w in stop_words]\n",
        "  tagged = nltk.pos_tag(wordsList)\n",
        "  print(tagged)\n"
      ],
      "metadata": {
        "colab": {
          "base_uri": "https://localhost:8080/"
        },
        "id": "ZOFbg_2YSNH5",
        "outputId": "b4cdb119-13f4-4672-d829-aa407be6ceb4"
      },
      "execution_count": 8,
      "outputs": [
        {
          "output_type": "stream",
          "name": "stdout",
          "text": [
            "[('Sukanya', 'NNP'), (',', ','), ('Rajib', 'NNP'), ('Naba', 'NNP'), ('good', 'JJ'), ('friends', 'NNS'), ('.', '.')]\n",
            "[('Sukanya', 'NNP'), ('getting', 'VBG'), ('married', 'VBN'), ('next', 'JJ'), ('year', 'NN'), ('.', '.')]\n",
            "[('Marriage', 'NN'), ('big', 'JJ'), ('step', 'NN'), ('one', 'CD'), ('’', 'NN'), ('life.It', 'NN'), ('exciting', 'VBG'), ('frightening', 'NN'), ('.', '.')]\n",
            "[('But', 'CC'), ('friendship', 'NN'), ('sacred', 'VBD'), ('bond', 'NN'), ('people.It', 'NN'), ('special', 'JJ'), ('kind', 'NN'), ('love', 'VB'), ('us', 'PRP'), ('.', '.')]\n",
            "[('Many', 'JJ'), ('must', 'MD'), ('tried', 'VB'), ('searching', 'VBG'), ('friend', 'NN'), ('never', 'RB'), ('found', 'VBD'), ('right', 'JJ'), ('one', 'CD'), ('.', '.')]\n"
          ]
        },
        {
          "output_type": "stream",
          "name": "stderr",
          "text": [
            "[nltk_data] Downloading package stopwords to /root/nltk_data...\n",
            "[nltk_data]   Unzipping corpora/stopwords.zip.\n"
          ]
        }
      ]
    },
    {
      "cell_type": "markdown",
      "source": [
        "#USING SPACY TO PERFORM POS OPERATIONS"
      ],
      "metadata": {
        "id": "m6X_DjlCSX_5"
      }
    },
    {
      "cell_type": "code",
      "source": [
        "import spacy\n",
        "sp = spacy.load('en_core_web_sm')\n",
        "sen = sp(u\"I like to play football. I hated it in my childhood though\")\n",
        "print(sen.text)\n",
        "print(sen[7].pos_)\n",
        "print(sen[7].text)\n",
        "print(spacy.explain(sen[7].tag_))"
      ],
      "metadata": {
        "colab": {
          "base_uri": "https://localhost:8080/"
        },
        "id": "WYqvNtO9STBo",
        "outputId": "211ed475-3454-402d-e1a4-95d59f888422"
      },
      "execution_count": 9,
      "outputs": [
        {
          "output_type": "stream",
          "name": "stdout",
          "text": [
            "I like to play football. I hated it in my childhood though\n",
            "VERB\n",
            "hated\n",
            "verb, past tense\n"
          ]
        }
      ]
    },
    {
      "cell_type": "markdown",
      "source": [
        "POS TAGGING A FULL SENTENCE USING SPACY"
      ],
      "metadata": {
        "id": "v0K43g-GSf8M"
      }
    },
    {
      "cell_type": "code",
      "source": [
        "for word in sen:\n",
        "  print(f'{word.text:{12}} {word.pos_:{10}} {word.tag_:{8}} {spacy.explain(word.tag_)}')"
      ],
      "metadata": {
        "colab": {
          "base_uri": "https://localhost:8080/"
        },
        "id": "oTX2jX58Sg7_",
        "outputId": "db466ecd-91ad-46f5-b1de-9aa7bf6c2d37"
      },
      "execution_count": 10,
      "outputs": [
        {
          "output_type": "stream",
          "name": "stdout",
          "text": [
            "I            PRON       PRP      pronoun, personal\n",
            "like         VERB       VBP      verb, non-3rd person singular present\n",
            "to           PART       TO       infinitival \"to\"\n",
            "play         VERB       VB       verb, base form\n",
            "football     NOUN       NN       noun, singular or mass\n",
            ".            PUNCT      .        punctuation mark, sentence closer\n",
            "I            PRON       PRP      pronoun, personal\n",
            "hated        VERB       VBD      verb, past tense\n",
            "it           PRON       PRP      pronoun, personal\n",
            "in           ADP        IN       conjunction, subordinating or preposition\n",
            "my           PRON       PRP$     pronoun, possessive\n",
            "childhood    NOUN       NN       noun, singular or mass\n",
            "though       ADV        RB       adverb\n"
          ]
        }
      ]
    },
    {
      "cell_type": "markdown",
      "source": [
        "VISUALIZATION OF POS TAGS"
      ],
      "metadata": {
        "id": "sh_dWqV8SnGF"
      }
    },
    {
      "cell_type": "code",
      "source": [
        "from spacy import displacy\n",
        "displacy.render(sen,style='dep',jupyter=True,options={'distance':85})"
      ],
      "metadata": {
        "colab": {
          "base_uri": "https://localhost:8080/",
          "height": 286
        },
        "id": "7VNCUCCvSju4",
        "outputId": "08145b56-5a8d-490a-ca8b-fb63eeb3664e"
      },
      "execution_count": 11,
      "outputs": [
        {
          "output_type": "display_data",
          "data": {
            "text/plain": [
              "<IPython.core.display.HTML object>"
            ],
            "text/html": [
              "<span class=\"tex2jax_ignore\"><svg xmlns=\"http://www.w3.org/2000/svg\" xmlns:xlink=\"http://www.w3.org/1999/xlink\" xml:lang=\"en\" id=\"e55d3e8a22ae48aca7cc4f4f8050292a-0\" class=\"displacy\" width=\"1070\" height=\"264.5\" direction=\"ltr\" style=\"max-width: none; height: 264.5px; color: #000000; background: #ffffff; font-family: Arial; direction: ltr\">\n",
              "<text class=\"displacy-token\" fill=\"currentColor\" text-anchor=\"middle\" y=\"174.5\">\n",
              "    <tspan class=\"displacy-word\" fill=\"currentColor\" x=\"50\">I</tspan>\n",
              "    <tspan class=\"displacy-tag\" dy=\"2em\" fill=\"currentColor\" x=\"50\">PRON</tspan>\n",
              "</text>\n",
              "\n",
              "<text class=\"displacy-token\" fill=\"currentColor\" text-anchor=\"middle\" y=\"174.5\">\n",
              "    <tspan class=\"displacy-word\" fill=\"currentColor\" x=\"135\">like</tspan>\n",
              "    <tspan class=\"displacy-tag\" dy=\"2em\" fill=\"currentColor\" x=\"135\">VERB</tspan>\n",
              "</text>\n",
              "\n",
              "<text class=\"displacy-token\" fill=\"currentColor\" text-anchor=\"middle\" y=\"174.5\">\n",
              "    <tspan class=\"displacy-word\" fill=\"currentColor\" x=\"220\">to</tspan>\n",
              "    <tspan class=\"displacy-tag\" dy=\"2em\" fill=\"currentColor\" x=\"220\">PART</tspan>\n",
              "</text>\n",
              "\n",
              "<text class=\"displacy-token\" fill=\"currentColor\" text-anchor=\"middle\" y=\"174.5\">\n",
              "    <tspan class=\"displacy-word\" fill=\"currentColor\" x=\"305\">play</tspan>\n",
              "    <tspan class=\"displacy-tag\" dy=\"2em\" fill=\"currentColor\" x=\"305\">VERB</tspan>\n",
              "</text>\n",
              "\n",
              "<text class=\"displacy-token\" fill=\"currentColor\" text-anchor=\"middle\" y=\"174.5\">\n",
              "    <tspan class=\"displacy-word\" fill=\"currentColor\" x=\"390\">football.</tspan>\n",
              "    <tspan class=\"displacy-tag\" dy=\"2em\" fill=\"currentColor\" x=\"390\">NOUN</tspan>\n",
              "</text>\n",
              "\n",
              "<text class=\"displacy-token\" fill=\"currentColor\" text-anchor=\"middle\" y=\"174.5\">\n",
              "    <tspan class=\"displacy-word\" fill=\"currentColor\" x=\"475\">I</tspan>\n",
              "    <tspan class=\"displacy-tag\" dy=\"2em\" fill=\"currentColor\" x=\"475\">PRON</tspan>\n",
              "</text>\n",
              "\n",
              "<text class=\"displacy-token\" fill=\"currentColor\" text-anchor=\"middle\" y=\"174.5\">\n",
              "    <tspan class=\"displacy-word\" fill=\"currentColor\" x=\"560\">hated</tspan>\n",
              "    <tspan class=\"displacy-tag\" dy=\"2em\" fill=\"currentColor\" x=\"560\">VERB</tspan>\n",
              "</text>\n",
              "\n",
              "<text class=\"displacy-token\" fill=\"currentColor\" text-anchor=\"middle\" y=\"174.5\">\n",
              "    <tspan class=\"displacy-word\" fill=\"currentColor\" x=\"645\">it</tspan>\n",
              "    <tspan class=\"displacy-tag\" dy=\"2em\" fill=\"currentColor\" x=\"645\">PRON</tspan>\n",
              "</text>\n",
              "\n",
              "<text class=\"displacy-token\" fill=\"currentColor\" text-anchor=\"middle\" y=\"174.5\">\n",
              "    <tspan class=\"displacy-word\" fill=\"currentColor\" x=\"730\">in</tspan>\n",
              "    <tspan class=\"displacy-tag\" dy=\"2em\" fill=\"currentColor\" x=\"730\">ADP</tspan>\n",
              "</text>\n",
              "\n",
              "<text class=\"displacy-token\" fill=\"currentColor\" text-anchor=\"middle\" y=\"174.5\">\n",
              "    <tspan class=\"displacy-word\" fill=\"currentColor\" x=\"815\">my</tspan>\n",
              "    <tspan class=\"displacy-tag\" dy=\"2em\" fill=\"currentColor\" x=\"815\">PRON</tspan>\n",
              "</text>\n",
              "\n",
              "<text class=\"displacy-token\" fill=\"currentColor\" text-anchor=\"middle\" y=\"174.5\">\n",
              "    <tspan class=\"displacy-word\" fill=\"currentColor\" x=\"900\">childhood</tspan>\n",
              "    <tspan class=\"displacy-tag\" dy=\"2em\" fill=\"currentColor\" x=\"900\">NOUN</tspan>\n",
              "</text>\n",
              "\n",
              "<text class=\"displacy-token\" fill=\"currentColor\" text-anchor=\"middle\" y=\"174.5\">\n",
              "    <tspan class=\"displacy-word\" fill=\"currentColor\" x=\"985\">though</tspan>\n",
              "    <tspan class=\"displacy-tag\" dy=\"2em\" fill=\"currentColor\" x=\"985\">ADV</tspan>\n",
              "</text>\n",
              "\n",
              "<g class=\"displacy-arrow\">\n",
              "    <path class=\"displacy-arc\" id=\"arrow-e55d3e8a22ae48aca7cc4f4f8050292a-0-0\" stroke-width=\"2px\" d=\"M70,129.5 C70,87.0 125.0,87.0 125.0,129.5\" fill=\"none\" stroke=\"currentColor\"/>\n",
              "    <text dy=\"1.25em\" style=\"font-size: 0.8em; letter-spacing: 1px\">\n",
              "        <textPath xlink:href=\"#arrow-e55d3e8a22ae48aca7cc4f4f8050292a-0-0\" class=\"displacy-label\" startOffset=\"50%\" side=\"left\" fill=\"currentColor\" text-anchor=\"middle\">nsubj</textPath>\n",
              "    </text>\n",
              "    <path class=\"displacy-arrowhead\" d=\"M70,131.5 L62,119.5 78,119.5\" fill=\"currentColor\"/>\n",
              "</g>\n",
              "\n",
              "<g class=\"displacy-arrow\">\n",
              "    <path class=\"displacy-arc\" id=\"arrow-e55d3e8a22ae48aca7cc4f4f8050292a-0-1\" stroke-width=\"2px\" d=\"M240,129.5 C240,87.0 295.0,87.0 295.0,129.5\" fill=\"none\" stroke=\"currentColor\"/>\n",
              "    <text dy=\"1.25em\" style=\"font-size: 0.8em; letter-spacing: 1px\">\n",
              "        <textPath xlink:href=\"#arrow-e55d3e8a22ae48aca7cc4f4f8050292a-0-1\" class=\"displacy-label\" startOffset=\"50%\" side=\"left\" fill=\"currentColor\" text-anchor=\"middle\">aux</textPath>\n",
              "    </text>\n",
              "    <path class=\"displacy-arrowhead\" d=\"M240,131.5 L232,119.5 248,119.5\" fill=\"currentColor\"/>\n",
              "</g>\n",
              "\n",
              "<g class=\"displacy-arrow\">\n",
              "    <path class=\"displacy-arc\" id=\"arrow-e55d3e8a22ae48aca7cc4f4f8050292a-0-2\" stroke-width=\"2px\" d=\"M155,129.5 C155,44.5 300.0,44.5 300.0,129.5\" fill=\"none\" stroke=\"currentColor\"/>\n",
              "    <text dy=\"1.25em\" style=\"font-size: 0.8em; letter-spacing: 1px\">\n",
              "        <textPath xlink:href=\"#arrow-e55d3e8a22ae48aca7cc4f4f8050292a-0-2\" class=\"displacy-label\" startOffset=\"50%\" side=\"left\" fill=\"currentColor\" text-anchor=\"middle\">xcomp</textPath>\n",
              "    </text>\n",
              "    <path class=\"displacy-arrowhead\" d=\"M300.0,131.5 L308.0,119.5 292.0,119.5\" fill=\"currentColor\"/>\n",
              "</g>\n",
              "\n",
              "<g class=\"displacy-arrow\">\n",
              "    <path class=\"displacy-arc\" id=\"arrow-e55d3e8a22ae48aca7cc4f4f8050292a-0-3\" stroke-width=\"2px\" d=\"M325,129.5 C325,87.0 380.0,87.0 380.0,129.5\" fill=\"none\" stroke=\"currentColor\"/>\n",
              "    <text dy=\"1.25em\" style=\"font-size: 0.8em; letter-spacing: 1px\">\n",
              "        <textPath xlink:href=\"#arrow-e55d3e8a22ae48aca7cc4f4f8050292a-0-3\" class=\"displacy-label\" startOffset=\"50%\" side=\"left\" fill=\"currentColor\" text-anchor=\"middle\">dobj</textPath>\n",
              "    </text>\n",
              "    <path class=\"displacy-arrowhead\" d=\"M380.0,131.5 L388.0,119.5 372.0,119.5\" fill=\"currentColor\"/>\n",
              "</g>\n",
              "\n",
              "<g class=\"displacy-arrow\">\n",
              "    <path class=\"displacy-arc\" id=\"arrow-e55d3e8a22ae48aca7cc4f4f8050292a-0-4\" stroke-width=\"2px\" d=\"M495,129.5 C495,87.0 550.0,87.0 550.0,129.5\" fill=\"none\" stroke=\"currentColor\"/>\n",
              "    <text dy=\"1.25em\" style=\"font-size: 0.8em; letter-spacing: 1px\">\n",
              "        <textPath xlink:href=\"#arrow-e55d3e8a22ae48aca7cc4f4f8050292a-0-4\" class=\"displacy-label\" startOffset=\"50%\" side=\"left\" fill=\"currentColor\" text-anchor=\"middle\">nsubj</textPath>\n",
              "    </text>\n",
              "    <path class=\"displacy-arrowhead\" d=\"M495,131.5 L487,119.5 503,119.5\" fill=\"currentColor\"/>\n",
              "</g>\n",
              "\n",
              "<g class=\"displacy-arrow\">\n",
              "    <path class=\"displacy-arc\" id=\"arrow-e55d3e8a22ae48aca7cc4f4f8050292a-0-5\" stroke-width=\"2px\" d=\"M580,129.5 C580,87.0 635.0,87.0 635.0,129.5\" fill=\"none\" stroke=\"currentColor\"/>\n",
              "    <text dy=\"1.25em\" style=\"font-size: 0.8em; letter-spacing: 1px\">\n",
              "        <textPath xlink:href=\"#arrow-e55d3e8a22ae48aca7cc4f4f8050292a-0-5\" class=\"displacy-label\" startOffset=\"50%\" side=\"left\" fill=\"currentColor\" text-anchor=\"middle\">dobj</textPath>\n",
              "    </text>\n",
              "    <path class=\"displacy-arrowhead\" d=\"M635.0,131.5 L643.0,119.5 627.0,119.5\" fill=\"currentColor\"/>\n",
              "</g>\n",
              "\n",
              "<g class=\"displacy-arrow\">\n",
              "    <path class=\"displacy-arc\" id=\"arrow-e55d3e8a22ae48aca7cc4f4f8050292a-0-6\" stroke-width=\"2px\" d=\"M580,129.5 C580,44.5 725.0,44.5 725.0,129.5\" fill=\"none\" stroke=\"currentColor\"/>\n",
              "    <text dy=\"1.25em\" style=\"font-size: 0.8em; letter-spacing: 1px\">\n",
              "        <textPath xlink:href=\"#arrow-e55d3e8a22ae48aca7cc4f4f8050292a-0-6\" class=\"displacy-label\" startOffset=\"50%\" side=\"left\" fill=\"currentColor\" text-anchor=\"middle\">prep</textPath>\n",
              "    </text>\n",
              "    <path class=\"displacy-arrowhead\" d=\"M725.0,131.5 L733.0,119.5 717.0,119.5\" fill=\"currentColor\"/>\n",
              "</g>\n",
              "\n",
              "<g class=\"displacy-arrow\">\n",
              "    <path class=\"displacy-arc\" id=\"arrow-e55d3e8a22ae48aca7cc4f4f8050292a-0-7\" stroke-width=\"2px\" d=\"M835,129.5 C835,87.0 890.0,87.0 890.0,129.5\" fill=\"none\" stroke=\"currentColor\"/>\n",
              "    <text dy=\"1.25em\" style=\"font-size: 0.8em; letter-spacing: 1px\">\n",
              "        <textPath xlink:href=\"#arrow-e55d3e8a22ae48aca7cc4f4f8050292a-0-7\" class=\"displacy-label\" startOffset=\"50%\" side=\"left\" fill=\"currentColor\" text-anchor=\"middle\">poss</textPath>\n",
              "    </text>\n",
              "    <path class=\"displacy-arrowhead\" d=\"M835,131.5 L827,119.5 843,119.5\" fill=\"currentColor\"/>\n",
              "</g>\n",
              "\n",
              "<g class=\"displacy-arrow\">\n",
              "    <path class=\"displacy-arc\" id=\"arrow-e55d3e8a22ae48aca7cc4f4f8050292a-0-8\" stroke-width=\"2px\" d=\"M750,129.5 C750,44.5 895.0,44.5 895.0,129.5\" fill=\"none\" stroke=\"currentColor\"/>\n",
              "    <text dy=\"1.25em\" style=\"font-size: 0.8em; letter-spacing: 1px\">\n",
              "        <textPath xlink:href=\"#arrow-e55d3e8a22ae48aca7cc4f4f8050292a-0-8\" class=\"displacy-label\" startOffset=\"50%\" side=\"left\" fill=\"currentColor\" text-anchor=\"middle\">pobj</textPath>\n",
              "    </text>\n",
              "    <path class=\"displacy-arrowhead\" d=\"M895.0,131.5 L903.0,119.5 887.0,119.5\" fill=\"currentColor\"/>\n",
              "</g>\n",
              "\n",
              "<g class=\"displacy-arrow\">\n",
              "    <path class=\"displacy-arc\" id=\"arrow-e55d3e8a22ae48aca7cc4f4f8050292a-0-9\" stroke-width=\"2px\" d=\"M580,129.5 C580,2.0 985.0,2.0 985.0,129.5\" fill=\"none\" stroke=\"currentColor\"/>\n",
              "    <text dy=\"1.25em\" style=\"font-size: 0.8em; letter-spacing: 1px\">\n",
              "        <textPath xlink:href=\"#arrow-e55d3e8a22ae48aca7cc4f4f8050292a-0-9\" class=\"displacy-label\" startOffset=\"50%\" side=\"left\" fill=\"currentColor\" text-anchor=\"middle\">advmod</textPath>\n",
              "    </text>\n",
              "    <path class=\"displacy-arrowhead\" d=\"M985.0,131.5 L993.0,119.5 977.0,119.5\" fill=\"currentColor\"/>\n",
              "</g>\n",
              "</svg></span>"
            ]
          },
          "metadata": {}
        }
      ]
    },
    {
      "cell_type": "markdown",
      "source": [
        "VISUALIZATION OF ENTITIES"
      ],
      "metadata": {
        "id": "f5J67NNQS4oY"
      }
    },
    {
      "cell_type": "code",
      "source": [
        "sen = sp(u\"Harry Potter is incredibly, natively powerful. For an instance, Harry Potter destroyed 700 Hocruxes in The New Wizard War and is the single most largest Threat to the Dark Lord. He can perform advanced magic at an early age at greater levels than we see done by any other wizard\")\n",
        "displacy.render(sen,style='ent',jupyter=True)"
      ],
      "metadata": {
        "colab": {
          "base_uri": "https://localhost:8080/",
          "height": 87
        },
        "id": "ZxMKwomfS0cN",
        "outputId": "d05507ab-0e22-4355-9aad-80ca13035f06"
      },
      "execution_count": 12,
      "outputs": [
        {
          "output_type": "display_data",
          "data": {
            "text/plain": [
              "<IPython.core.display.HTML object>"
            ],
            "text/html": [
              "<span class=\"tex2jax_ignore\"><div class=\"entities\" style=\"line-height: 2.5; direction: ltr\">\n",
              "<mark class=\"entity\" style=\"background: #aa9cfc; padding: 0.45em 0.6em; margin: 0 0.25em; line-height: 1; border-radius: 0.35em;\">\n",
              "    Harry Potter\n",
              "    <span style=\"font-size: 0.8em; font-weight: bold; line-height: 1; border-radius: 0.35em; vertical-align: middle; margin-left: 0.5rem\">PERSON</span>\n",
              "</mark>\n",
              " is incredibly, natively powerful. For an instance, \n",
              "<mark class=\"entity\" style=\"background: #aa9cfc; padding: 0.45em 0.6em; margin: 0 0.25em; line-height: 1; border-radius: 0.35em;\">\n",
              "    Harry Potter\n",
              "    <span style=\"font-size: 0.8em; font-weight: bold; line-height: 1; border-radius: 0.35em; vertical-align: middle; margin-left: 0.5rem\">PERSON</span>\n",
              "</mark>\n",
              " destroyed 700 Hocruxes in The New Wizard War and is the single most largest Threat to the Dark Lord. He can perform advanced magic at an early age at greater levels than we see done by any other wizard</div></span>"
            ]
          },
          "metadata": {}
        }
      ]
    },
    {
      "cell_type": "markdown",
      "source": [
        "NAME ENTITY RECOGNITION"
      ],
      "metadata": {
        "id": "piN31MtOTBQH"
      }
    },
    {
      "cell_type": "code",
      "source": [
        "import gensim\n",
        "from gensim.models import Word2Vec\n",
        "\n",
        "import numpy as np\n",
        "sentences = [['drink','not','good'],['felt','superb'],['just','good','ambience'],['bad','taste'],['parking','problem'],['fantastic','food']]\n",
        "y = np.array([0,1,1,0,0,1])\n",
        "model = Word2Vec(sentences, min_count=1,size=100)\n",
        "print(model)"
      ],
      "metadata": {
        "colab": {
          "base_uri": "https://localhost:8080/"
        },
        "id": "UPOJrDMfS78S",
        "outputId": "f96fefad-f3a5-47c5-c0c1-7eaf003fe9a7"
      },
      "execution_count": 13,
      "outputs": [
        {
          "output_type": "stream",
          "name": "stderr",
          "text": [
            "WARNING:gensim.models.base_any2vec:under 10 jobs per worker: consider setting a smaller `batch_words' for smoother alpha decay\n"
          ]
        },
        {
          "output_type": "stream",
          "name": "stdout",
          "text": [
            "Word2Vec(vocab=13, size=100, alpha=0.025)\n"
          ]
        }
      ]
    },
    {
      "cell_type": "code",
      "source": [
        "words = list(model.wv.vocab)\n",
        "print(words)"
      ],
      "metadata": {
        "colab": {
          "base_uri": "https://localhost:8080/"
        },
        "id": "hkrSMUk0TEMy",
        "outputId": "64c016cc-0935-4dc2-e96b-0476a3b4648b"
      },
      "execution_count": 14,
      "outputs": [
        {
          "output_type": "stream",
          "name": "stdout",
          "text": [
            "['drink', 'not', 'good', 'felt', 'superb', 'just', 'ambience', 'bad', 'taste', 'parking', 'problem', 'fantastic', 'food']\n"
          ]
        }
      ]
    },
    {
      "cell_type": "code",
      "source": [
        "print(model['drink'])\n",
        "print(model['fantastic'])"
      ],
      "metadata": {
        "colab": {
          "base_uri": "https://localhost:8080/"
        },
        "id": "9YBqt9UZTHO0",
        "outputId": "0c36fdbd-a292-4bd9-dde8-6fe6e71ec45e"
      },
      "execution_count": 15,
      "outputs": [
        {
          "output_type": "stream",
          "name": "stdout",
          "text": [
            "[-1.6704430e-03 -3.3094031e-03  4.0607238e-03 -1.6067883e-03\n",
            " -4.1331318e-03  4.3455889e-03 -1.1749959e-03  2.8822348e-03\n",
            " -2.7438586e-03  2.2575024e-03 -4.7046854e-03  3.6205158e-03\n",
            "  2.7337640e-03 -6.8691024e-04 -1.8285746e-03 -6.1093923e-04\n",
            " -2.7346492e-03  2.3244536e-03  3.6817449e-03 -4.8687942e-03\n",
            "  1.6549198e-03  1.4715073e-04  3.2684694e-03  1.6633887e-03\n",
            " -4.5317323e-03  1.4348202e-03  4.8897485e-03 -2.1829775e-04\n",
            " -4.4506402e-03  3.9300984e-03  4.9596508e-03  4.7996335e-04\n",
            "  4.0457929e-03 -4.2278618e-03 -2.6982417e-03 -8.8480703e-04\n",
            " -4.7210730e-03  1.2653170e-03  3.8281146e-03 -4.6097622e-03\n",
            "  1.6317897e-03  4.2544091e-03 -9.3943224e-04  1.2262666e-04\n",
            "  4.9239034e-03 -6.5792643e-04  1.1781743e-03  1.8669658e-03\n",
            "  6.4439686e-05  4.8847157e-03 -4.1992771e-03 -2.3981032e-03\n",
            "  4.4518296e-04 -4.8251860e-03  6.7230297e-04 -3.6801226e-03\n",
            " -5.9558422e-04  5.9321732e-04  1.9033591e-03  5.5577693e-04\n",
            "  1.2561037e-03 -4.3527856e-03  3.6589080e-03 -4.5703896e-03\n",
            "  3.9378856e-03 -4.1852747e-03  1.8198134e-03  3.5865167e-03\n",
            "  3.6607084e-03  2.7761550e-04  4.5776516e-03  3.4324501e-03\n",
            "  2.7843048e-03  3.9066607e-03  2.4890399e-04  3.7680070e-03\n",
            " -2.6074992e-03  1.5932446e-03  3.1597919e-03  3.8900531e-03\n",
            "  4.9867528e-03  4.6511684e-03 -6.2196347e-04  3.7955306e-03\n",
            "  9.4225653e-04 -6.7799882e-04  4.3142508e-03  2.6082392e-03\n",
            " -3.8029340e-03 -4.6718637e-03 -9.1764622e-04 -2.5100382e-03\n",
            " -7.7664520e-04 -4.9882992e-03  3.0665454e-03  1.3586483e-05\n",
            "  3.1671668e-03  2.1876476e-03 -2.2437103e-05 -4.6066376e-03]\n",
            "[ 1.50761358e-03  4.56132693e-03 -9.13203578e-04 -4.08186112e-03\n",
            "  3.40681570e-03 -4.55804076e-03  1.25354202e-03 -3.37781454e-03\n",
            "  2.54401704e-03  4.91099199e-03 -4.85379854e-03 -4.03903937e-03\n",
            "  3.61847924e-04 -1.86556799e-03  1.94931764e-03  1.90315372e-03\n",
            " -2.37081922e-03  3.24533344e-03 -9.55403899e-04  4.53640940e-03\n",
            " -2.18899827e-03  2.94833910e-03 -4.31138696e-03  2.17346963e-03\n",
            " -1.20564352e-03 -3.10818991e-03 -3.90180061e-03 -1.13178765e-04\n",
            "  1.14667718e-03 -1.41005579e-03 -2.01097922e-03  2.17156392e-03\n",
            " -4.44092648e-03 -1.17748894e-03  3.60995112e-03  3.10366647e-03\n",
            " -3.27419082e-04 -4.80102841e-03  2.80467048e-03  3.35852476e-03\n",
            " -3.87536222e-03 -2.38498120e-04  2.51639122e-03 -1.75613433e-03\n",
            "  8.50500001e-05 -4.48961137e-03 -1.17719569e-03 -4.16742871e-03\n",
            " -2.97984411e-03  4.86772694e-03 -2.68876133e-03  4.45423461e-03\n",
            "  3.86607624e-03  1.51473493e-03 -7.23438920e-04  4.06999374e-03\n",
            "  4.02791658e-03  3.23473336e-03 -3.86374141e-03 -1.23299379e-03\n",
            " -2.59916973e-03 -4.05896833e-04  2.89314706e-03 -1.24389434e-03\n",
            " -2.56288983e-03 -3.39018856e-03  3.06849228e-03  1.01394404e-03\n",
            " -3.68957152e-03 -3.31239030e-03  1.05813402e-03 -3.05019435e-03\n",
            "  2.49989028e-03  4.25958633e-03  9.24413675e-04 -3.85628408e-03\n",
            " -2.32575563e-04  7.59571594e-06 -1.94749224e-03  8.22025118e-04\n",
            "  4.34811506e-03 -3.95463128e-03 -6.13488141e-04 -3.11608124e-03\n",
            "  8.33633530e-04 -3.36198183e-03  2.80741160e-03 -9.06952599e-04\n",
            "  4.45831055e-03 -1.46216038e-03 -1.38614944e-03 -4.54526441e-03\n",
            " -1.42226531e-03  2.44258600e-03 -3.40128154e-03  2.50863144e-03\n",
            "  3.58414883e-03  5.20631263e-04 -3.41314211e-04  1.47994049e-03]\n"
          ]
        },
        {
          "output_type": "stream",
          "name": "stderr",
          "text": [
            "/usr/local/lib/python3.7/dist-packages/ipykernel_launcher.py:1: DeprecationWarning: Call to deprecated `__getitem__` (Method will be removed in 4.0.0, use self.wv.__getitem__() instead).\n",
            "  \"\"\"Entry point for launching an IPython kernel.\n",
            "/usr/local/lib/python3.7/dist-packages/ipykernel_launcher.py:2: DeprecationWarning: Call to deprecated `__getitem__` (Method will be removed in 4.0.0, use self.wv.__getitem__() instead).\n",
            "  \n"
          ]
        }
      ]
    },
    {
      "cell_type": "code",
      "source": [
        "means_0 = np.mean(model[sentences[0]],axis=0)\n",
        "means = []\n",
        "for i in sentences :\n",
        "    row_means = np.mean(model[i],axis=0)\n",
        "    means.append(row_means)\n",
        "means = np.array(means) \n",
        "X = means"
      ],
      "metadata": {
        "colab": {
          "base_uri": "https://localhost:8080/"
        },
        "id": "fUbj3A74TJan",
        "outputId": "96327ee2-667a-4f12-89d8-f97d1b2cdd1f"
      },
      "execution_count": 16,
      "outputs": [
        {
          "output_type": "stream",
          "name": "stderr",
          "text": [
            "/usr/local/lib/python3.7/dist-packages/ipykernel_launcher.py:1: DeprecationWarning: Call to deprecated `__getitem__` (Method will be removed in 4.0.0, use self.wv.__getitem__() instead).\n",
            "  \"\"\"Entry point for launching an IPython kernel.\n",
            "/usr/local/lib/python3.7/dist-packages/ipykernel_launcher.py:4: DeprecationWarning: Call to deprecated `__getitem__` (Method will be removed in 4.0.0, use self.wv.__getitem__() instead).\n",
            "  after removing the cwd from sys.path.\n"
          ]
        }
      ]
    },
    {
      "cell_type": "code",
      "source": [
        "from sklearn.ensemble import RandomForestClassifier\n",
        "model_rf = RandomForestClassifier(random_state=1211,\n",
        "                                  n_estimators=100,oob_score=True)\n",
        "model_rf.fit( X , y )\n",
        "test_sentences = [['bad','food'],['just','fantastic']]\n",
        "test_means = []\n",
        "for i in test_sentences :\n",
        "    row_means = np.mean(model[i],axis=0)\n",
        "    test_means.append(row_means)\n",
        "num_test_means = np.array(test_means) \n",
        "X_test = num_test_means\n",
        "y_pred = model_rf.predict(X_test)"
      ],
      "metadata": {
        "colab": {
          "base_uri": "https://localhost:8080/"
        },
        "id": "pObTbBR_TNYG",
        "outputId": "cc17e546-0571-4b9a-d121-ad19bf3eacc7"
      },
      "execution_count": 17,
      "outputs": [
        {
          "output_type": "stream",
          "name": "stderr",
          "text": [
            "/usr/local/lib/python3.7/dist-packages/ipykernel_launcher.py:8: DeprecationWarning: Call to deprecated `__getitem__` (Method will be removed in 4.0.0, use self.wv.__getitem__() instead).\n",
            "  \n"
          ]
        }
      ]
    },
    {
      "cell_type": "code",
      "source": [
        "model.save('model.bin')"
      ],
      "metadata": {
        "id": "PURKW8BlTUzz"
      },
      "execution_count": 18,
      "outputs": []
    },
    {
      "cell_type": "code",
      "source": [
        "new_model = Word2Vec.load('model.bin')\n",
        "print(new_model)"
      ],
      "metadata": {
        "colab": {
          "base_uri": "https://localhost:8080/"
        },
        "id": "orrLrvwRTXkR",
        "outputId": "9f425d69-6db5-4cd7-d15a-95dc2acc73a9"
      },
      "execution_count": 19,
      "outputs": [
        {
          "output_type": "stream",
          "name": "stdout",
          "text": [
            "Word2Vec(vocab=13, size=100, alpha=0.025)\n"
          ]
        }
      ]
    },
    {
      "cell_type": "code",
      "source": [
        "from sklearn.decomposition import PCA\n",
        "from matplotlib import pyplot\n",
        "X = model[model.wv.vocab]\n",
        "pca = PCA(n_components=2)\n",
        "result = pca.fit_transform(X)\n",
        "pyplot.scatter(result[:, 0], result[:, 1])\n",
        "vwords = list(model.wv.vocab)\n",
        "for j, word in enumerate(vwords):\n",
        "  pyplot.annotate(word, xy=(result[j, 0], result[j, 1]))\n",
        "pyplot.show()"
      ],
      "metadata": {
        "id": "K0uYTqBmTcG5",
        "outputId": "8429264d-0712-431f-ebc4-598165edb5af",
        "colab": {
          "base_uri": "https://localhost:8080/",
          "height": 320
        }
      },
      "execution_count": 20,
      "outputs": [
        {
          "output_type": "stream",
          "name": "stderr",
          "text": [
            "/usr/local/lib/python3.7/dist-packages/ipykernel_launcher.py:3: DeprecationWarning: Call to deprecated `__getitem__` (Method will be removed in 4.0.0, use self.wv.__getitem__() instead).\n",
            "  This is separate from the ipykernel package so we can avoid doing imports until\n"
          ]
        },
        {
          "output_type": "display_data",
          "data": {
            "text/plain": [
              "<Figure size 432x288 with 1 Axes>"
            ],
            "image/png": "[encoded data removed]"
          },
          "metadata": {
            "needs_background": "light"
          }
        }
      ]
    },
    {
      "cell_type": "code",
      "source": [],
      "metadata": {
        "id": "MF-vb4zrTd7t"
      },
      "execution_count": null,
      "outputs": []
    }
  ]
}